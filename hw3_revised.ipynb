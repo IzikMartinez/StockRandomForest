{
 "cells": [
  {
   "cell_type": "code",
   "execution_count": 39,
   "id": "initial_id",
   "metadata": {
    "collapsed": true,
    "ExecuteTime": {
     "end_time": "2024-04-06T01:44:06.903925Z",
     "start_time": "2024-04-06T01:44:06.893320Z"
    }
   },
   "outputs": [],
   "source": [
    "import yfinance as yf\n",
    "\n",
    "\"\"\"\n",
    "Closing Price of stock stockDF on day T\n",
    "Represents Sj(t)\n",
    "\"\"\"\n",
    "def closing_price(stockDF, T):\n",
    "    return stockDF.loc[str(T), 'Close']\n",
    "\n",
    "\n",
    "\"\"\"\n",
    "Daily Rate of Return.\n",
    "Represents Yj(t)\n",
    "\"\"\"\n",
    "def daily_rate_of_return(stockDF, T):\n",
    "    today = closing_price(stockDF, T)\n",
    "    yesterday = closing_price(stockDF, T - 1)\n",
    "    return (today - yesterday) / yesterday\n",
    "\n",
    "\n",
    "\"\"\"\n",
    "Vj\n",
    "Creates a list of data corresponding to two weeks of trading days before the day T\n",
    "\"\"\"\n",
    "def vj(stockDF, T):\n",
    "    rates_of_return = []\n",
    "    for i in range(0, 15):\n",
    "        rates_of_return.append(daily_rate_of_return(stockDF, T - i))\n",
    "    # Invert the elements in rates_of_return\n",
    "    rates_of_return = rates_of_return[:: -1]\n",
    "    return rates_of_return\n",
    "\n",
    "\n",
    "\"\"\"\n",
    "True Class\n",
    "returns 0, 1, 2 based on the value of the input\n",
    "Corresponds to STABLE, UP and DOWN\n",
    "\"\"\"\n",
    "def true_class(targ):\n",
    "    # if UP\n",
    "    if targ >= 0.006:\n",
    "        return 1\n",
    "    # if DOWN\n",
    "    elif targ <= -0.006:\n",
    "        return 2\n",
    "    # If STABLE\n",
    "    else:\n",
    "        return 0\n",
    "\n",
    "\n",
    "### TARG is defined as tomorrows Yj(T)\n",
    "def targ(stockDF, T):\n",
    "    return daily_rate_of_return(stockDF, T+1)\n",
    "\n",
    "\n",
    "def make_zt(X):\n",
    "    return X.map(true_class)\n",
    "\n",
    "def make_xt(stocks, T):\n",
    "    \"\"\"\n",
    "    Xt Represents an array containing all our line vector stock data \"Vj(t)\"\n",
    "    \"\"\"\n",
    "    xt_list = []\n",
    "    ticker_list = []\n",
    "    for stock, ticker in stocks:\n",
    "        xt_list.append(vj(stock, T))\n",
    "        ticker_list.append(ticker)\n",
    "    return xt_list, ticker_list\n",
    "\n",
    "def create_xt(stock, T):\n",
    "    \"\"\" \n",
    "    Xt Represents an array containing all our line vector stock data \"Vj(t)\" \n",
    "    \"\"\"\n",
    "    xt_list = []\n",
    "    for stock, ticker in stocks:\n",
    "        xt_list.extend(vj(stock, T))\n",
    "    return xt_list\n",
    "\n",
    "\n",
    "def confusion_matrix_percentage(conf_matrix):\n",
    "    return (conf_matrix / conf_matrix.sum()) * 100"
   ]
  },
  {
   "cell_type": "code",
   "outputs": [],
   "source": [
    "################### Slide 2 #########################\n",
    "tickers = [\"AAPL\", \"MSFT\", \"TSLA\", \"META\", \"GOOGL\", \"AMZN\", \"NVDA\", \"AMD\", \"DIS\", \"NFLX\",\n",
    "           \"JPM\", \"KO\", \"BAC\", \"C\", \"WFC\", \"GS\", \"AXP\", \"MCD\", \"DJI\", \"SPY\"]\n",
    "\n",
    "stocks = []\n",
    "\n",
    "for ticker in tickers:\n",
    "    stocks.append((yf.Ticker(ticker).history(start='2016-01-01', end='2022-12-31'), ticker))\n",
    "\n",
    "for stock in stocks:\n",
    "    new_index = [str(i + 1) for i in range(len(stock[0]))]\n",
    "    stock[0].index = new_index\n"
   ],
   "metadata": {
    "collapsed": false,
    "ExecuteTime": {
     "end_time": "2024-04-05T23:54:30.709089Z",
     "start_time": "2024-04-05T23:54:20.406704Z"
    }
   },
   "id": "da2ddcd56aa73da",
   "execution_count": 2
  },
  {
   "cell_type": "code",
   "outputs": [],
   "source": [
    "################### Slide 4 #########################\n",
    "Y = []\n",
    "for stock, ticker in stocks:\n",
    "    for day in range(2, len(stock) - 1):\n",
    "        Y.append((ticker, day, daily_rate_of_return(stock, day)))"
   ],
   "metadata": {
    "collapsed": false,
    "ExecuteTime": {
     "end_time": "2024-04-06T00:10:22.329387Z",
     "start_time": "2024-04-06T00:10:21.908048Z"
    }
   },
   "id": "1d2627cb66a8f463",
   "execution_count": 3
  },
  {
   "cell_type": "code",
   "outputs": [
    {
     "name": "stderr",
     "output_type": "stream",
     "text": [
      "/tmp/ipykernel_6299/2961004328.py:5: MatplotlibDeprecationWarning: The get_cmap function was deprecated in Matplotlib 3.7 and will be removed two minor releases later. Use ``matplotlib.colormaps[name]`` or ``matplotlib.colormaps.get_cmap(obj)`` instead.\n",
      "  colors = cm.get_cmap('rainbow', 3)  # using 'rainbow' colormap here, you can choose any\n"
     ]
    },
    {
     "data": {
      "text/plain": "\"\\n# Now plotting\\nfor chunk in chunks_of_tickers:\\n    for i, ticker in enumerate(chunk):\\n        ticker_data = [x for x in Y if x[0] == ticker]  # filter out data for this ticker only\\n        days = [x[1] for x in ticker_data]  # x-axis data\\n        rates_of_return = [x[2] for x in ticker_data]  # y-axis data\\n        plt.plot(days, rates_of_return, color=colors(i), label=ticker)\\n    plt.xlabel('Day')\\n    plt.ylabel('Rate of Return')\\n    plt.title('Rate of Return Over Days for Each Ticker')\\n    plt.legend()  # add a legend\\n    plt.show()\\n\""
     },
     "execution_count": 4,
     "metadata": {},
     "output_type": "execute_result"
    }
   ],
   "source": [
    "################### Slide 4 cont #########################\n",
    "\n",
    "import matplotlib.cm as cm\n",
    "\n",
    "colors = cm.get_cmap('rainbow', 3)  # using 'rainbow' colormap here, you can choose any\n",
    "unique_tickers = list(set([x[0] for x in Y]))  # gets unique tickers\n",
    "\n",
    "\n",
    "# Chunking function\n",
    "def chunks(lst, n):\n",
    "    \"\"\"Yield successive n-sized chunks from lst.\"\"\"\n",
    "    for i in range(0, len(lst), n):\n",
    "        yield lst[i:i + n]\n",
    "\n",
    "\n",
    "# Dividing tickers into chunks of 5\n",
    "chunks_of_tickers = list(chunks(unique_tickers, 3))\n",
    "\"\"\"\n",
    "# Now plotting\n",
    "for chunk in chunks_of_tickers:\n",
    "    for i, ticker in enumerate(chunk):\n",
    "        ticker_data = [x for x in Y if x[0] == ticker]  # filter out data for this ticker only\n",
    "        days = [x[1] for x in ticker_data]  # x-axis data\n",
    "        rates_of_return = [x[2] for x in ticker_data]  # y-axis data\n",
    "        plt.plot(days, rates_of_return, color=colors(i), label=ticker)\n",
    "    plt.xlabel('Day')\n",
    "    plt.ylabel('Rate of Return')\n",
    "    plt.title('Rate of Return Over Days for Each Ticker')\n",
    "    plt.legend()  # add a legend\n",
    "    plt.show()\n",
    "\"\"\"\n",
    "\n"
   ],
   "metadata": {
    "collapsed": false,
    "ExecuteTime": {
     "end_time": "2024-04-06T00:10:23.567482Z",
     "start_time": "2024-04-06T00:10:23.461291Z"
    }
   },
   "id": "ecd1fd607f9ab2a",
   "execution_count": 4
  },
  {
   "cell_type": "code",
   "outputs": [
    {
     "name": "stdout",
     "output_type": "stream",
     "text": [
      "        0         1         2         3         4         5        6    \\\n",
      "0 -0.001067  0.016446 -0.010401 -0.004059 -0.005577  0.000755  0.00679   \n",
      "\n",
      "        7         8         9    ...       290       291       292      293  \\\n",
      "0 -0.009741 -0.023457  0.001993  ...  0.000826  0.012434 -0.009355  0.00029   \n",
      "\n",
      "        294       295       296       297       298       299  \n",
      "0 -0.008714  0.009866 -0.009334  0.000293 -0.003465  0.006317  \n",
      "\n",
      "[1 rows x 300 columns]\n",
      "(1, 300)\n"
     ]
    }
   ],
   "source": [
    "################### Slide 5 #########################\n",
    "Xt, tickers = make_xt(stocks, 97)\n",
    "mod_xt = create_xt(stocks, 97)\n",
    "# extract vj values and convert to dataframe\n",
    "\n",
    "import numpy as np\n",
    "import pandas as pd\n",
    "\n",
    "X_data = pd.DataFrame(mod_xt).T\n",
    "\"\"\"\n",
    "# reshape it into 1D and convert into a DataFrame\n",
    "X_data = pd.DataFrame(Xt, index=tickers).T\n",
    "\"\"\"\n",
    "\n",
    "print(X_data)\n",
    "print(X_data.shape)"
   ],
   "metadata": {
    "collapsed": false,
    "ExecuteTime": {
     "end_time": "2024-04-06T00:10:26.435162Z",
     "start_time": "2024-04-06T00:10:26.419612Z"
    }
   },
   "id": "bd6c79a74661b202",
   "execution_count": 5
  },
  {
   "cell_type": "code",
   "outputs": [
    {
     "name": "stdout",
     "output_type": "stream",
     "text": [
      "   0    1    2    3    4    5    6    7    8    9    ...  290  291  292  293  \\\n",
      "0    0    1    2    0    0    0    1    2    2    0  ...    0    1    2    0   \n",
      "\n",
      "   294  295  296  297  298  299  \n",
      "0    2    1    2    0    0    1  \n",
      "\n",
      "[1 rows x 300 columns]\n"
     ]
    }
   ],
   "source": [
    "################### Slide 6 #########################\n",
    "Z_data = make_zt(X_data)\n",
    "print(Z_data)\n"
   ],
   "metadata": {
    "collapsed": false,
    "ExecuteTime": {
     "end_time": "2024-04-06T00:10:28.924201Z",
     "start_time": "2024-04-06T00:10:28.903612Z"
    }
   },
   "id": "4ca6ec247e62c600",
   "execution_count": 6
  },
  {
   "cell_type": "code",
   "outputs": [],
   "source": [
    "################### Slide 7 #########################\n",
    "# Slide 7 simply describes the goal of the next few slides\n"
   ],
   "metadata": {
    "collapsed": false,
    "ExecuteTime": {
     "end_time": "2024-04-04T21:41:27.943430Z",
     "start_time": "2024-04-04T21:41:27.939196Z"
    }
   },
   "id": "670efdc3104b6023",
   "execution_count": 24
  },
  {
   "cell_type": "code",
   "outputs": [
    {
     "name": "stdout",
     "output_type": "stream",
     "text": [
      "300\n",
      "112\n",
      "90\n",
      "98\n",
      "Initial Stable Ratio: 0.37333333333333335\n",
      "Initial Up Ratio: 0.3\n",
      "Initial Down Ratio: 0.32666666666666666\n"
     ]
    },
    {
     "data": {
      "text/plain": "'\\nDue to the data set already containing a fairly balanced set of classes, there is no need to clone the data in X_data\\n'"
     },
     "execution_count": 7,
     "metadata": {},
     "output_type": "execute_result"
    }
   ],
   "source": [
    "################### Slide 8 #########################\n",
    "\n",
    "CL0 = Z_data.apply(lambda x: (x == 0))\n",
    "CL1 = Z_data.apply(lambda x: (x == 1))\n",
    "CL2 = Z_data.apply(lambda x: (x == 2))\n",
    "\n",
    "s0 = CL0.sum().sum()\n",
    "s1 = CL1.sum().sum()\n",
    "s2 = CL2.sum().sum()\n",
    "\n",
    "N = s0 + s1 + s2\n",
    "\n",
    "print(N)\n",
    "print(s0)\n",
    "print(s1)\n",
    "print(s2)\n",
    "\n",
    "R0 = s0/N\n",
    "R1 = s1/N\n",
    "R2 = s2/N\n",
    "print(f\"Initial Stable Ratio: {R0}\\nInitial Up Ratio: {R1}\\nInitial Down Ratio: {R2}\")\n",
    "\n",
    "\"\"\"\n",
    "Due to the data set already containing a fairly balanced set of classes, there is no need to clone the data in X_data\n",
    "\"\"\"\n"
   ],
   "metadata": {
    "collapsed": false,
    "ExecuteTime": {
     "end_time": "2024-04-06T00:10:35.989274Z",
     "start_time": "2024-04-06T00:10:35.895223Z"
    }
   },
   "id": "227ab78f9fd115a2",
   "execution_count": 7
  },
  {
   "cell_type": "code",
   "outputs": [
    {
     "name": "stdout",
     "output_type": "stream",
     "text": [
      "299\n"
     ]
    }
   ],
   "source": [
    "################### Slide 9 part 1 #########################\n",
    "# Take all but the last day of trading in X_train\n",
    "X_data_mod = X_data.iloc[:, :-1]\n",
    "# Select stock 20 as our target for Random Forest Classifier\n",
    "Z_data_mod = Z_data.iloc[:, 1:]\n",
    "M = X_data.shape[1]\n",
    "print(M)\n",
    "\n",
    "# X_train and Y_train are now dataframes whose elements are offset by one day, producing a training set of a stock's daily value and tomorrow's price action"
   ],
   "metadata": {
    "collapsed": false,
    "ExecuteTime": {
     "end_time": "2024-04-06T20:52:32.502317Z",
     "start_time": "2024-04-06T20:52:32.499638Z"
    }
   },
   "id": "bba30d30e47a96e0",
   "execution_count": 65
  },
  {
   "cell_type": "code",
   "outputs": [
    {
     "name": "stdout",
     "output_type": "stream",
     "text": [
      "(253, 1)\n",
      "(45, 1)\n",
      "(253, 1)\n",
      "(45, 1)\n"
     ]
    }
   ],
   "source": [
    "############# Feedback correction ##########\n",
    "\"\"\"\n",
    "    As per feedback, the data set has been split into training and test data, with training data being 85% of the original size and test data being 15% of the original size\n",
    "\"\"\"\n",
    "from sklearn.model_selection import train_test_split\n",
    "\n",
    "# Assuming that X_data is your pandas DataFrame\n",
    "\n",
    "X_train, X_test, Y_train, Y_test = train_test_split(X_data_mod.T, Z_data_mod.T, test_size=0.15)\n",
    "print(X_train.shape)\n",
    "print(X_test.shape)\n",
    "print(Y_train.shape)\n",
    "print(Y_test.shape)\n"
   ],
   "metadata": {
    "collapsed": false,
    "ExecuteTime": {
     "end_time": "2024-04-06T20:52:35.318198Z",
     "start_time": "2024-04-06T20:52:35.313018Z"
    }
   },
   "id": "5f6f637f0c677c93",
   "execution_count": 66
  },
  {
   "cell_type": "code",
   "outputs": [
    {
     "name": "stdout",
     "output_type": "stream",
     "text": [
      "Training took 0.14035534858703613 seconds.\n",
      "OOB : 37.5%\n"
     ]
    }
   ],
   "source": [
    "################### Slide 9 part 2 #########################\n",
    "# 2M/3 proves that M must be a number less than 100, as max_samples must be a number smaller than n_estimators\n",
    "# I.E., M cannot be a number in the range 300, for a random forest with 100 trees\n",
    "\n",
    "from sklearn.ensemble import RandomForestClassifier\n",
    "import time\n",
    "\n",
    "# Create our random forest classifier\n",
    "clf = RandomForestClassifier(n_estimators=100, random_state=42, max_features=18, oob_score=True)\n",
    "start_time = time.time()\n",
    "clf.fit(X_train, np.ravel(Y_train))\n",
    "end_time = time.time()\n",
    "\n",
    "oob_score = clf.oob_score_\n",
    "elapsed_time = end_time - start_time\n",
    "\n",
    "print(f\"Training took {elapsed_time} seconds.\")\n",
    "\n",
    "print(f\"OOB : {round(oob_score*100,1)}%\")\n",
    "z=clf.predict(X_train)"
   ],
   "metadata": {
    "collapsed": false,
    "ExecuteTime": {
     "end_time": "2024-04-06T20:52:39.394272Z",
     "start_time": "2024-04-06T20:52:39.246037Z"
    }
   },
   "id": "cc8974f91787986e",
   "execution_count": 67
  },
  {
   "cell_type": "code",
   "outputs": [],
   "source": [
    "################### Slide 10 part 1 #########################\n",
    "# Create a reuseable Train Random Forest function to be used for the remaining slides\n",
    "\n",
    "import time\n",
    "\n",
    "def TrainRandomForest(num_tree, num_select_features, X_train, Y_train):\n",
    "    from sklearn.ensemble import RandomForestRegressor, RandomForestClassifier\n",
    "    # Create our random forest classifier\n",
    "    clf = RandomForestClassifier(n_estimators=num_tree, random_state=42, oob_score=True,\n",
    "                                 bootstrap=True, max_samples=0.87,\n",
    "                                 max_features=num_select_features)\n",
    "    # Calculate computation start time\n",
    "    start_time = time.time()\n",
    "    # Train the model\n",
    "    clf.fit(X_train, np.ravel(Y_train))\n",
    "    # Calculate computation end time\n",
    "    end_time = time.time()\n",
    "    # Total time is end - start\n",
    "    elapsed_time = end_time - start_time\n",
    "    # Get out of bag score\n",
    "    oob_score = clf.oob_score_\n",
    "    return clf, oob_score, elapsed_time, clf.feature_importances_\n"
   ],
   "metadata": {
    "collapsed": false,
    "ExecuteTime": {
     "end_time": "2024-04-06T20:52:44.180620Z",
     "start_time": "2024-04-06T20:52:44.177770Z"
    }
   },
   "id": "a09cabaaf5983239",
   "execution_count": 68
  },
  {
   "cell_type": "code",
   "outputs": [
    {
     "name": "stdout",
     "output_type": "stream",
     "text": [
      "Training time was 0.13576769828796387 seconds\n",
      "OOB : 37.5%\n"
     ]
    }
   ],
   "source": [
    "################### Slide 10 part 2 #########################\n",
    "# Compute one iteration of the Random Forest\n",
    "\n",
    "clf, oob_score, elapsed_time, features = TrainRandomForest(100, 18, X_train, Y_train)\n",
    "print(f\"Training time was {elapsed_time} seconds\")\n",
    "\n",
    "print(f\"OOB : {round(oob_score*100,1)}%\")\n"
   ],
   "metadata": {
    "collapsed": false,
    "ExecuteTime": {
     "end_time": "2024-04-06T20:52:59.443450Z",
     "start_time": "2024-04-06T20:52:59.301195Z"
    }
   },
   "id": "f86fa9712e9ae1ad",
   "execution_count": 69
  },
  {
   "cell_type": "code",
   "outputs": [
    {
     "name": "stdout",
     "output_type": "stream",
     "text": [
      "Train Confusion Matrix (%):\n",
      " [[38.74% 0.00% 0.40%]\n",
      " [0.00% 29.25% 0.00%]\n",
      " [0.00% 0.00% 31.62%]]\n",
      "Test Confusion Matrix (%):\n",
      " [[8.89% 6.67% 11.11%]\n",
      " [11.11% 8.89% 13.33%]\n",
      " [17.78% 8.89% 13.33%]]\n"
     ]
    }
   ],
   "source": [
    "################### Slide 10 part 3 #########################\n",
    "# Compute the confusion matrix\n",
    "from sklearn.metrics import confusion_matrix\n",
    "\n",
    "\n",
    "\"\"\"Get trainCONF\"\"\"\n",
    "# Get the predicted values\n",
    "Y_train_pred = clf.predict(X_train)\n",
    "#Create the training confusion matrix\n",
    "trainCONF = confusion_matrix(np.ravel(Y_train), Y_train_pred)\n",
    "trainCONF = confusion_matrix_percentage(trainCONF)\n",
    "\n",
    "\"\"\"Get trainCONF\"\"\"\n",
    "# Get the predicted test values\n",
    "Y_test_pred = clf.predict(X_test)\n",
    "#Create the test confusion matrix\n",
    "testCONF = confusion_matrix(np.ravel(Y_test), Y_test_pred)\n",
    "testCONF = confusion_matrix_percentage(testCONF)\n",
    "\n",
    "# Format print to print the matrix elements as percentages\n",
    "np.set_printoptions(formatter={'float': lambda x: \"{:0.2f}%\".format(x)})\n",
    "\n",
    "print('Train Confusion Matrix (%):\\n', trainCONF)\n",
    "print('Test Confusion Matrix (%):\\n', testCONF)\n",
    "\n",
    "# Undo formatting of numbers as percent\n",
    "np.set_printoptions(formatter={'float': None})"
   ],
   "metadata": {
    "collapsed": false,
    "ExecuteTime": {
     "end_time": "2024-04-06T23:36:38.662561Z",
     "start_time": "2024-04-06T23:36:38.596361Z"
    }
   },
   "id": "1eab26d4ca7e6778",
   "execution_count": 197
  },
  {
   "cell_type": "code",
   "outputs": [
    {
     "name": "stdout",
     "output_type": "stream",
     "text": [
      "Out of Box scores\n",
      " SF       18      36      72      140     200\n",
      "Tree                                        \n",
      "100   37.55%  37.55%  37.55%  37.55%  37.55%\n",
      "200   36.76%  36.76%  36.76%  36.76%  36.76%\n",
      "300   36.76%  36.76%  36.76%  36.76%  36.76%\n",
      "400   37.15%  37.15%  37.15%  37.15%  37.15%\n",
      "500   37.15%  37.15%  37.15%  37.15%  37.15%\n",
      "Computation times (s)\n",
      " SF         18        36        72        140       200\n",
      "Tree                                                  \n",
      "100   0.119599  0.095453  0.102666  0.150097  0.124453\n",
      "200   0.191713  0.194607  0.191193  0.192690  0.191122\n",
      "300   0.282931  0.283561  0.283229  0.285970  0.282841\n",
      "400   0.381158  0.382740  0.490882  0.390307  0.377627\n",
      "500   0.471941  0.471732  0.473788  0.472434  0.472232\n"
     ]
    }
   ],
   "source": [
    "################### Slide 11 #########################\n",
    "trees = [100,200,300,400,500]\n",
    "selected_features = [18,36,72,140,200]\n",
    "OOB_accuracies = []\n",
    "computation_times = []\n",
    "data = []\n",
    "for tree in trees:\n",
    "    for SF in selected_features:\n",
    "        clf, oob_score, elapsed_time, features = TrainRandomForest(tree, SF, X_train, Y_train)\n",
    "        data.append((tree, SF, f\"{round(oob_score*100,2)}%\", elapsed_time))\n",
    "\n",
    "# print(data)\n",
    "df = pd.DataFrame(data, columns=['Tree', 'SF', 'oob_score', 'computation_time'])\n",
    "df_pivot_oob = df.pivot(index='Tree', columns='SF', values='oob_score')\n",
    "df_pivot_time = df.pivot(index='Tree', columns='SF', values='computation_time')\n",
    "\n",
    "print(f\"Out of Box scores\\n {df_pivot_oob}\")\n",
    "print(f\"Computation times (s)\\n {df_pivot_time}\")\n",
    "# Best TR* = 100; Best SF* = 36"
   ],
   "metadata": {
    "collapsed": false,
    "ExecuteTime": {
     "end_time": "2024-04-06T20:58:21.131294Z",
     "start_time": "2024-04-06T20:58:13.578050Z"
    }
   },
   "id": "95d45851f27a311b",
   "execution_count": 81
  },
  {
   "cell_type": "code",
   "outputs": [
    {
     "name": "stdout",
     "output_type": "stream",
     "text": [
      "OOB : 37.9%\n"
     ]
    }
   ],
   "source": [
    "################### Slide 12-14 #########################\n",
    "from sklearn.inspection import permutation_importance\n",
    "RF_prime = RandomForestClassifier(n_estimators=100, max_features=18, criterion='gini', n_jobs=-1, oob_score=True)\n",
    "RF_prime.fit(X_train, np.ravel(Y_train))\n",
    "\n",
    "oob_prime = RF_prime.oob_score_\n",
    "features = RF_prime.n_features_in_\n",
    "importances = RF_prime.feature_importances_\n",
    "\n",
    "# Print the feature ranking\n",
    "print(f\"OOB : {round(oob_prime*100,1)}%\")\n",
    "\n"
   ],
   "metadata": {
    "collapsed": false,
    "ExecuteTime": {
     "end_time": "2024-04-06T20:58:40.690915Z",
     "start_time": "2024-04-06T20:58:40.508024Z"
    }
   },
   "id": "37b8aff8148615d1",
   "execution_count": 89
  },
  {
   "cell_type": "code",
   "outputs": [
    {
     "name": "stdout",
     "output_type": "stream",
     "text": [
      "Feature importances (Mean Decrease Accuracy):\n",
      " [-0.013 -0.14  -0.027 -0.02  -0.04  -0.067  0.    -0.023 -0.084 -0.027\n",
      " -0.074 -0.05  -0.064 -0.02  -0.037 -0.013 -0.057 -0.033 -0.02  -0.023\n",
      " -0.03  -0.043 -0.037 -0.05  -0.04  -0.02  -0.003 -0.05  -0.067 -0.047\n",
      " -0.033 -0.06  -0.054 -0.064 -0.043 -0.057 -0.05  -0.003 -0.037 -0.01\n",
      " -0.017 -0.047 -0.037 -0.043 -0.017 -0.054 -0.033 -0.03  -0.033 -0.007\n",
      " -0.06  -0.08  -0.017 -0.064 -0.047 -0.01  -0.077 -0.02  -0.057 -0.064\n",
      " -0.05  -0.043 -0.02  -0.05  -0.087 -0.043 -0.077 -0.06  -0.05  -0.033\n",
      " -0.09  -0.087 -0.003 -0.074 -0.017 -0.037 -0.084 -0.06  -0.023  0.007\n",
      " -0.037 -0.01  -0.11  -0.03  -0.02  -0.054 -0.094 -0.02  -0.04  -0.08\n",
      " -0.01  -0.057 -0.033 -0.04  -0.087 -0.023 -0.03  -0.01  -0.054 -0.054\n",
      "  0.003 -0.013 -0.057 -0.043 -0.06  -0.084 -0.043 -0.067 -0.084 -0.06\n",
      " -0.087 -0.017  0.007 -0.054 -0.11  -0.057 -0.06  -0.003 -0.03  -0.033\n",
      " -0.013 -0.077 -0.094 -0.043 -0.03  -0.043 -0.127 -0.02  -0.023  0.013\n",
      " -0.064 -0.06  -0.02  -0.007 -0.02  -0.027 -0.057 -0.043 -0.023 -0.017\n",
      "  0.017 -0.077 -0.064 -0.084 -0.07  -0.047 -0.06  -0.074 -0.05  -0.09\n",
      " -0.043 -0.06  -0.01  -0.05  -0.017 -0.033 -0.054 -0.074  0.027 -0.08\n",
      " -0.027 -0.067 -0.043 -0.1   -0.02  -0.077 -0.013  0.01  -0.05  -0.02\n",
      " -0.064 -0.03  -0.054 -0.05  -0.057 -0.013 -0.057 -0.07  -0.05  -0.04\n",
      " -0.064 -0.027 -0.043  0.01  -0.043 -0.08  -0.097 -0.023 -0.04  -0.02\n",
      " -0.11  -0.09  -0.054 -0.04  -0.03  -0.043 -0.037  0.01  -0.007  0.023\n",
      " -0.067 -0.08  -0.027  0.017  0.007 -0.043 -0.074 -0.077 -0.08  -0.033\n",
      " -0.06  -0.017 -0.047 -0.02  -0.08  -0.03  -0.05  -0.007  0.027 -0.027\n",
      " -0.047 -0.07  -0.043 -0.13  -0.033 -0.033 -0.06  -0.01  -0.054 -0.037\n",
      " -0.017 -0.064 -0.027 -0.047 -0.067 -0.067 -0.05  -0.084 -0.023 -0.064\n",
      " -0.087 -0.047 -0.027 -0.077 -0.054 -0.023 -0.043  0.    -0.074 -0.09\n",
      " -0.05  -0.04  -0.064 -0.064 -0.064 -0.06  -0.017 -0.067 -0.023 -0.057\n",
      " -0.007 -0.02  -0.067 -0.067 -0.043 -0.043 -0.054 -0.033 -0.054  0.007\n",
      " -0.064 -0.04   0.007 -0.054 -0.09  -0.023 -0.05  -0.04  -0.05  -0.04\n",
      " -0.057 -0.064 -0.064 -0.05   0.003  0.    -0.07  -0.057 -0.054 -0.03\n",
      " -0.057 -0.043 -0.04  -0.077 -0.067 -0.09  -0.04  -0.074 -0.097]\n"
     ]
    }
   ],
   "source": [
    "################### Slide 15 part 1 #########################\n",
    "\"\"\"\n",
    "For RF*, compute the importances of all features\n",
    "\"\"\"\n",
    "from sklearn.metrics import accuracy_score\n",
    "from sklearn.utils import shuffle\n",
    "import numpy as np\n",
    "\n",
    "\n",
    "# Your original model accuracy\n",
    "orig_accuracy = accuracy_score(Z_data.T, RF_prime.predict(X_data.T))\n",
    "\n",
    "# Store the feature importances\n",
    "importances = []\n",
    "\n",
    "# For each feature\n",
    "for i in range(X_data.shape[1]):\n",
    "    # Create a copy of the test data\n",
    "    X_data_copy = X_data.T.copy()\n",
    "\n",
    "    for i in range(X_data_copy.shape[1]):  # assuming 'i' refers to columns\n",
    "        # Shuffle the values of the ith feature\n",
    "        X_data_copy.iloc[:, i] = shuffle(X_data_copy.iloc[:, i])\n",
    "\n",
    "    # Get the accuracy score after making this change\n",
    "    shuff_accuracy = accuracy_score(Z_data.T, RF_prime.predict(X_data_copy))\n",
    "\n",
    "    # The importance of the feature is the decrease in accuracy\n",
    "    importances.append(orig_accuracy - shuff_accuracy)\n",
    "\n",
    "# Normalize the importances to get percentages\n",
    "importances = np.array(importances)\n",
    "\n",
    "\n",
    "np.set_printoptions(precision=3)\n",
    "# Print the importances\n",
    "print(\"Feature importances (Mean Decrease Accuracy):\\n\", importances)"
   ],
   "metadata": {
    "collapsed": false,
    "ExecuteTime": {
     "end_time": "2024-04-06T23:35:44.640009Z",
     "start_time": "2024-04-06T23:35:39.659901Z"
    }
   },
   "id": "7928baab8493962a",
   "execution_count": 196
  },
  {
   "cell_type": "code",
   "outputs": [
    {
     "name": "stdout",
     "output_type": "stream",
     "text": [
      "The feature 0 has a drop-in accuracy of: 0.885\n",
      "The feature 1 has a drop-in accuracy of: 0.861\n",
      "The feature 2 has a drop-in accuracy of: 0.837\n",
      "The feature 3 has a drop-in accuracy of: 0.765\n",
      "The feature 4 has a drop-in accuracy of: 0.765\n",
      "The feature 5 has a drop-in accuracy of: 0.765\n",
      "The feature 6 has a drop-in accuracy of: 0.693\n",
      "The feature 7 has a drop-in accuracy of: 0.693\n",
      "The feature 8 has a drop-in accuracy of: 0.693\n",
      "The feature 9 has a drop-in accuracy of: 0.67\n",
      "The feature 10 has a drop-in accuracy of: 0.67\n",
      "The feature 11 has a drop-in accuracy of: 0.67\n",
      "The feature 12 has a drop-in accuracy of: 0.646\n",
      "The feature 13 has a drop-in accuracy of: 0.646\n",
      "The feature 14 has a drop-in accuracy of: 0.646\n",
      "The feature 15 has a drop-in accuracy of: 0.646\n",
      "The feature 16 has a drop-in accuracy of: 0.622\n",
      "The feature 17 has a drop-in accuracy of: 0.622\n",
      "The feature 18 has a drop-in accuracy of: 0.622\n",
      "The feature 19 has a drop-in accuracy of: 0.622\n",
      "The feature 20 has a drop-in accuracy of: 0.622\n",
      "The feature 21 has a drop-in accuracy of: 0.622\n",
      "The feature 22 has a drop-in accuracy of: 0.622\n",
      "The feature 23 has a drop-in accuracy of: 0.622\n",
      "The feature 24 has a drop-in accuracy of: 0.598\n",
      "The feature 25 has a drop-in accuracy of: 0.598\n",
      "The feature 26 has a drop-in accuracy of: 0.598\n",
      "The feature 27 has a drop-in accuracy of: 0.598\n",
      "The feature 28 has a drop-in accuracy of: 0.598\n",
      "The feature 29 has a drop-in accuracy of: 0.598\n",
      "The feature 30 has a drop-in accuracy of: 0.598\n",
      "The feature 31 has a drop-in accuracy of: 0.574\n",
      "The feature 32 has a drop-in accuracy of: 0.574\n",
      "The feature 33 has a drop-in accuracy of: 0.574\n",
      "The feature 34 has a drop-in accuracy of: 0.574\n",
      "The feature 35 has a drop-in accuracy of: 0.55\n",
      "The feature 36 has a drop-in accuracy of: 0.55\n",
      "The feature 37 has a drop-in accuracy of: 0.55\n",
      "The feature 38 has a drop-in accuracy of: 0.55\n",
      "The feature 39 has a drop-in accuracy of: 0.55\n",
      "The feature 40 has a drop-in accuracy of: 0.55\n",
      "The feature 41 has a drop-in accuracy of: 0.55\n",
      "The feature 42 has a drop-in accuracy of: 0.55\n",
      "The feature 43 has a drop-in accuracy of: 0.55\n",
      "The feature 44 has a drop-in accuracy of: 0.55\n",
      "The feature 45 has a drop-in accuracy of: 0.55\n",
      "The feature 46 has a drop-in accuracy of: 0.55\n",
      "The feature 47 has a drop-in accuracy of: 0.55\n",
      "The feature 48 has a drop-in accuracy of: 0.55\n",
      "The feature 49 has a drop-in accuracy of: 0.526\n",
      "The feature 50 has a drop-in accuracy of: 0.526\n",
      "The feature 51 has a drop-in accuracy of: 0.526\n",
      "The feature 52 has a drop-in accuracy of: 0.526\n",
      "The feature 53 has a drop-in accuracy of: 0.526\n",
      "The feature 54 has a drop-in accuracy of: 0.526\n",
      "The feature 55 has a drop-in accuracy of: 0.526\n",
      "The feature 56 has a drop-in accuracy of: 0.526\n",
      "The feature 57 has a drop-in accuracy of: 0.502\n",
      "The feature 58 has a drop-in accuracy of: 0.502\n",
      "The feature 59 has a drop-in accuracy of: 0.502\n",
      "The feature 60 has a drop-in accuracy of: 0.502\n",
      "The feature 61 has a drop-in accuracy of: 0.502\n",
      "The feature 62 has a drop-in accuracy of: 0.502\n",
      "The feature 63 has a drop-in accuracy of: 0.502\n",
      "The feature 64 has a drop-in accuracy of: 0.502\n",
      "The feature 65 has a drop-in accuracy of: 0.502\n",
      "The feature 66 has a drop-in accuracy of: 0.502\n",
      "The feature 67 has a drop-in accuracy of: 0.478\n",
      "The feature 68 has a drop-in accuracy of: 0.478\n",
      "The feature 69 has a drop-in accuracy of: 0.478\n",
      "The feature 70 has a drop-in accuracy of: 0.478\n",
      "The feature 71 has a drop-in accuracy of: 0.478\n",
      "The feature 72 has a drop-in accuracy of: 0.478\n",
      "The feature 73 has a drop-in accuracy of: 0.478\n",
      "The feature 74 has a drop-in accuracy of: 0.478\n",
      "The feature 75 has a drop-in accuracy of: 0.478\n",
      "The feature 76 has a drop-in accuracy of: 0.478\n",
      "The feature 77 has a drop-in accuracy of: 0.478\n",
      "The feature 78 has a drop-in accuracy of: 0.478\n",
      "The feature 79 has a drop-in accuracy of: 0.478\n",
      "The feature 80 has a drop-in accuracy of: 0.454\n",
      "The feature 81 has a drop-in accuracy of: 0.454\n",
      "The feature 82 has a drop-in accuracy of: 0.454\n",
      "The feature 83 has a drop-in accuracy of: 0.454\n",
      "The feature 84 has a drop-in accuracy of: 0.454\n",
      "The feature 85 has a drop-in accuracy of: 0.454\n",
      "The feature 86 has a drop-in accuracy of: 0.454\n",
      "The feature 87 has a drop-in accuracy of: 0.454\n",
      "The feature 88 has a drop-in accuracy of: 0.454\n",
      "The feature 89 has a drop-in accuracy of: 0.454\n",
      "The feature 90 has a drop-in accuracy of: 0.454\n",
      "The feature 91 has a drop-in accuracy of: 0.454\n",
      "The feature 92 has a drop-in accuracy of: 0.43\n",
      "The feature 93 has a drop-in accuracy of: 0.43\n",
      "The feature 94 has a drop-in accuracy of: 0.43\n",
      "The feature 95 has a drop-in accuracy of: 0.43\n",
      "The feature 96 has a drop-in accuracy of: 0.43\n",
      "The feature 97 has a drop-in accuracy of: 0.43\n",
      "The feature 98 has a drop-in accuracy of: 0.43\n",
      "The feature 99 has a drop-in accuracy of: 0.43\n",
      "The feature 100 has a drop-in accuracy of: 0.43\n",
      "The feature 101 has a drop-in accuracy of: 0.43\n",
      "The feature 102 has a drop-in accuracy of: 0.43\n",
      "The feature 103 has a drop-in accuracy of: 0.407\n",
      "The feature 104 has a drop-in accuracy of: 0.407\n",
      "The feature 105 has a drop-in accuracy of: 0.407\n",
      "The feature 106 has a drop-in accuracy of: 0.407\n",
      "The feature 107 has a drop-in accuracy of: 0.407\n",
      "The feature 108 has a drop-in accuracy of: 0.407\n",
      "The feature 109 has a drop-in accuracy of: 0.407\n",
      "The feature 110 has a drop-in accuracy of: 0.407\n",
      "The feature 111 has a drop-in accuracy of: 0.407\n",
      "The feature 112 has a drop-in accuracy of: 0.407\n",
      "The feature 113 has a drop-in accuracy of: 0.407\n",
      "The feature 114 has a drop-in accuracy of: 0.407\n",
      "The feature 115 has a drop-in accuracy of: 0.407\n",
      "The feature 116 has a drop-in accuracy of: 0.407\n",
      "The feature 117 has a drop-in accuracy of: 0.407\n",
      "The feature 118 has a drop-in accuracy of: 0.383\n",
      "The feature 119 has a drop-in accuracy of: 0.383\n",
      "The feature 120 has a drop-in accuracy of: 0.383\n",
      "The feature 121 has a drop-in accuracy of: 0.383\n",
      "The feature 122 has a drop-in accuracy of: 0.383\n",
      "The feature 123 has a drop-in accuracy of: 0.383\n",
      "The feature 124 has a drop-in accuracy of: 0.383\n",
      "The feature 125 has a drop-in accuracy of: 0.383\n",
      "The feature 126 has a drop-in accuracy of: 0.383\n",
      "The feature 127 has a drop-in accuracy of: 0.383\n",
      "The feature 128 has a drop-in accuracy of: 0.383\n",
      "The feature 129 has a drop-in accuracy of: 0.383\n",
      "The feature 130 has a drop-in accuracy of: 0.383\n",
      "The feature 131 has a drop-in accuracy of: 0.359\n",
      "The feature 132 has a drop-in accuracy of: 0.359\n",
      "The feature 133 has a drop-in accuracy of: 0.359\n",
      "The feature 134 has a drop-in accuracy of: 0.359\n",
      "The feature 135 has a drop-in accuracy of: 0.359\n",
      "The feature 136 has a drop-in accuracy of: 0.359\n",
      "The feature 137 has a drop-in accuracy of: 0.359\n",
      "The feature 138 has a drop-in accuracy of: 0.335\n",
      "The feature 139 has a drop-in accuracy of: 0.335\n",
      "The feature 140 has a drop-in accuracy of: 0.335\n",
      "The feature 141 has a drop-in accuracy of: 0.335\n",
      "The feature 142 has a drop-in accuracy of: 0.335\n",
      "The feature 143 has a drop-in accuracy of: 0.335\n",
      "The feature 144 has a drop-in accuracy of: 0.335\n",
      "The feature 145 has a drop-in accuracy of: 0.335\n",
      "The feature 146 has a drop-in accuracy of: 0.335\n",
      "The feature 147 has a drop-in accuracy of: 0.335\n",
      "The feature 148 has a drop-in accuracy of: 0.335\n",
      "The feature 149 has a drop-in accuracy of: 0.335\n",
      "The feature 150 has a drop-in accuracy of: 0.335\n",
      "The feature 151 has a drop-in accuracy of: 0.311\n",
      "The feature 152 has a drop-in accuracy of: 0.311\n",
      "The feature 153 has a drop-in accuracy of: 0.311\n",
      "The feature 154 has a drop-in accuracy of: 0.311\n",
      "The feature 155 has a drop-in accuracy of: 0.311\n",
      "The feature 156 has a drop-in accuracy of: 0.311\n",
      "The feature 157 has a drop-in accuracy of: 0.311\n",
      "The feature 158 has a drop-in accuracy of: 0.311\n",
      "The feature 159 has a drop-in accuracy of: 0.311\n",
      "The feature 160 has a drop-in accuracy of: 0.311\n",
      "The feature 161 has a drop-in accuracy of: 0.311\n",
      "The feature 162 has a drop-in accuracy of: 0.311\n",
      "The feature 163 has a drop-in accuracy of: 0.311\n",
      "The feature 164 has a drop-in accuracy of: 0.287\n",
      "The feature 165 has a drop-in accuracy of: 0.287\n",
      "The feature 166 has a drop-in accuracy of: 0.287\n",
      "The feature 167 has a drop-in accuracy of: 0.287\n",
      "The feature 168 has a drop-in accuracy of: 0.287\n",
      "The feature 169 has a drop-in accuracy of: 0.287\n",
      "The feature 170 has a drop-in accuracy of: 0.287\n",
      "The feature 171 has a drop-in accuracy of: 0.287\n",
      "The feature 172 has a drop-in accuracy of: 0.287\n",
      "The feature 173 has a drop-in accuracy of: 0.287\n",
      "The feature 174 has a drop-in accuracy of: 0.287\n",
      "The feature 175 has a drop-in accuracy of: 0.287\n",
      "The feature 176 has a drop-in accuracy of: 0.287\n",
      "The feature 177 has a drop-in accuracy of: 0.263\n",
      "The feature 178 has a drop-in accuracy of: 0.263\n",
      "The feature 179 has a drop-in accuracy of: 0.263\n",
      "The feature 180 has a drop-in accuracy of: 0.263\n",
      "The feature 181 has a drop-in accuracy of: 0.263\n",
      "The feature 182 has a drop-in accuracy of: 0.263\n",
      "The feature 183 has a drop-in accuracy of: 0.263\n",
      "The feature 184 has a drop-in accuracy of: 0.263\n",
      "The feature 185 has a drop-in accuracy of: 0.263\n",
      "The feature 186 has a drop-in accuracy of: 0.263\n",
      "The feature 187 has a drop-in accuracy of: 0.263\n",
      "The feature 188 has a drop-in accuracy of: 0.263\n",
      "The feature 189 has a drop-in accuracy of: 0.263\n",
      "The feature 190 has a drop-in accuracy of: 0.263\n",
      "The feature 191 has a drop-in accuracy of: 0.263\n",
      "The feature 192 has a drop-in accuracy of: 0.263\n",
      "The feature 193 has a drop-in accuracy of: 0.263\n",
      "The feature 194 has a drop-in accuracy of: 0.239\n",
      "The feature 195 has a drop-in accuracy of: 0.239\n",
      "The feature 196 has a drop-in accuracy of: 0.239\n",
      "The feature 197 has a drop-in accuracy of: 0.239\n",
      "The feature 198 has a drop-in accuracy of: 0.239\n",
      "The feature 199 has a drop-in accuracy of: 0.239\n",
      "The feature 200 has a drop-in accuracy of: 0.239\n",
      "The feature 201 has a drop-in accuracy of: 0.239\n",
      "The feature 202 has a drop-in accuracy of: 0.239\n",
      "The feature 203 has a drop-in accuracy of: 0.239\n",
      "The feature 204 has a drop-in accuracy of: 0.239\n",
      "The feature 205 has a drop-in accuracy of: 0.239\n",
      "The feature 206 has a drop-in accuracy of: 0.239\n",
      "The feature 207 has a drop-in accuracy of: 0.239\n",
      "The feature 208 has a drop-in accuracy of: 0.239\n",
      "The feature 209 has a drop-in accuracy of: 0.239\n",
      "The feature 210 has a drop-in accuracy of: 0.239\n",
      "The feature 211 has a drop-in accuracy of: 0.239\n",
      "The feature 212 has a drop-in accuracy of: 0.239\n",
      "The feature 213 has a drop-in accuracy of: 0.215\n",
      "The feature 214 has a drop-in accuracy of: 0.215\n",
      "The feature 215 has a drop-in accuracy of: 0.215\n",
      "The feature 216 has a drop-in accuracy of: 0.215\n",
      "The feature 217 has a drop-in accuracy of: 0.215\n",
      "The feature 218 has a drop-in accuracy of: 0.215\n",
      "The feature 219 has a drop-in accuracy of: 0.215\n",
      "The feature 220 has a drop-in accuracy of: 0.215\n",
      "The feature 221 has a drop-in accuracy of: 0.215\n",
      "The feature 222 has a drop-in accuracy of: 0.215\n",
      "The feature 223 has a drop-in accuracy of: 0.215\n",
      "The feature 224 has a drop-in accuracy of: 0.215\n",
      "The feature 225 has a drop-in accuracy of: 0.215\n",
      "The feature 226 has a drop-in accuracy of: 0.215\n",
      "The feature 227 has a drop-in accuracy of: 0.215\n",
      "The feature 228 has a drop-in accuracy of: 0.215\n",
      "The feature 229 has a drop-in accuracy of: 0.215\n",
      "The feature 230 has a drop-in accuracy of: 0.191\n",
      "The feature 231 has a drop-in accuracy of: 0.191\n",
      "The feature 232 has a drop-in accuracy of: 0.191\n",
      "The feature 233 has a drop-in accuracy of: 0.191\n",
      "The feature 234 has a drop-in accuracy of: 0.191\n",
      "The feature 235 has a drop-in accuracy of: 0.191\n",
      "The feature 236 has a drop-in accuracy of: 0.191\n",
      "The feature 237 has a drop-in accuracy of: 0.191\n",
      "The feature 238 has a drop-in accuracy of: 0.167\n",
      "The feature 239 has a drop-in accuracy of: 0.167\n",
      "The feature 240 has a drop-in accuracy of: 0.167\n",
      "The feature 241 has a drop-in accuracy of: 0.167\n",
      "The feature 242 has a drop-in accuracy of: 0.167\n",
      "The feature 243 has a drop-in accuracy of: 0.167\n",
      "The feature 244 has a drop-in accuracy of: 0.167\n",
      "The feature 245 has a drop-in accuracy of: 0.167\n",
      "The feature 246 has a drop-in accuracy of: 0.167\n",
      "The feature 247 has a drop-in accuracy of: 0.167\n",
      "The feature 248 has a drop-in accuracy of: 0.167\n",
      "The feature 249 has a drop-in accuracy of: 0.167\n",
      "The feature 250 has a drop-in accuracy of: 0.167\n",
      "The feature 251 has a drop-in accuracy of: 0.143\n",
      "The feature 252 has a drop-in accuracy of: 0.143\n",
      "The feature 253 has a drop-in accuracy of: 0.143\n",
      "The feature 254 has a drop-in accuracy of: 0.143\n",
      "The feature 255 has a drop-in accuracy of: 0.143\n",
      "The feature 256 has a drop-in accuracy of: 0.143\n",
      "The feature 257 has a drop-in accuracy of: 0.143\n",
      "The feature 258 has a drop-in accuracy of: 0.12\n",
      "The feature 259 has a drop-in accuracy of: 0.12\n",
      "The feature 260 has a drop-in accuracy of: 0.12\n",
      "The feature 261 has a drop-in accuracy of: 0.12\n",
      "The feature 262 has a drop-in accuracy of: 0.12\n",
      "The feature 263 has a drop-in accuracy of: 0.12\n",
      "The feature 264 has a drop-in accuracy of: 0.096\n",
      "The feature 265 has a drop-in accuracy of: 0.096\n",
      "The feature 266 has a drop-in accuracy of: 0.096\n",
      "The feature 267 has a drop-in accuracy of: 0.096\n",
      "The feature 268 has a drop-in accuracy of: 0.096\n",
      "The feature 269 has a drop-in accuracy of: 0.072\n",
      "The feature 270 has a drop-in accuracy of: 0.072\n",
      "The feature 271 has a drop-in accuracy of: 0.072\n",
      "The feature 272 has a drop-in accuracy of: 0.072\n",
      "The feature 273 has a drop-in accuracy of: 0.072\n",
      "The feature 274 has a drop-in accuracy of: 0.072\n",
      "The feature 275 has a drop-in accuracy of: 0.048\n",
      "The feature 276 has a drop-in accuracy of: 0.048\n",
      "The feature 277 has a drop-in accuracy of: 0.024\n",
      "The feature 278 has a drop-in accuracy of: 0.024\n",
      "The feature 279 has a drop-in accuracy of: 0.024\n",
      "The feature 280 has a drop-in accuracy of: 0.024\n",
      "The feature 281 has a drop-in accuracy of: 0.024\n",
      "The feature 282 has a drop-in accuracy of: -0.0\n",
      "The feature 283 has a drop-in accuracy of: -0.0\n",
      "The feature 284 has a drop-in accuracy of: -0.0\n",
      "The feature 285 has a drop-in accuracy of: -0.0\n",
      "The feature 286 has a drop-in accuracy of: -0.024\n",
      "The feature 287 has a drop-in accuracy of: -0.024\n",
      "The feature 288 has a drop-in accuracy of: -0.048\n",
      "The feature 289 has a drop-in accuracy of: -0.048\n",
      "The feature 290 has a drop-in accuracy of: -0.048\n",
      "The feature 291 has a drop-in accuracy of: -0.048\n",
      "The feature 292 has a drop-in accuracy of: -0.048\n",
      "The feature 293 has a drop-in accuracy of: -0.072\n",
      "The feature 294 has a drop-in accuracy of: -0.12\n",
      "The feature 295 has a drop-in accuracy of: -0.143\n",
      "The feature 296 has a drop-in accuracy of: -0.167\n",
      "The feature 297 has a drop-in accuracy of: -0.191\n",
      "The feature 298 has a drop-in accuracy of: -0.287\n"
     ]
    }
   ],
   "source": [
    "\"\"\"\n",
    "Rank the features by decreasing importance\n",
    "\"\"\"\n",
    "ranked_features = sorted(zip(X_data.columns, importances), key=lambda x: x[1], reverse=True)\n",
    "\n",
    "# Print ordered feature importances\n",
    "for feature, importance in ranked_features:\n",
    "    print(f\"The feature {feature} has a drop-in accuracy of: {round(importance,3)}\")"
   ],
   "metadata": {
    "collapsed": false,
    "ExecuteTime": {
     "end_time": "2024-04-06T23:32:58.204443Z",
     "start_time": "2024-04-06T23:32:58.199172Z"
    }
   },
   "id": "75fd56d5433fd8b8",
   "execution_count": 192
  },
  {
   "cell_type": "code",
   "outputs": [
    {
     "ename": "RuntimeError",
     "evalue": "`lowess=True` requires statsmodels, an optional dependency, to be installed.",
     "output_type": "error",
     "traceback": [
      "\u001B[0;31m---------------------------------------------------------------------------\u001B[0m",
      "\u001B[0;31mRuntimeError\u001B[0m                              Traceback (most recent call last)",
      "Cell \u001B[0;32mIn[191], line 17\u001B[0m\n\u001B[1;32m     14\u001B[0m data \u001B[38;5;241m=\u001B[39m pd\u001B[38;5;241m.\u001B[39mDataFrame({\u001B[38;5;124m'\u001B[39m\u001B[38;5;124mImportance\u001B[39m\u001B[38;5;124m'\u001B[39m: importances, \u001B[38;5;124m'\u001B[39m\u001B[38;5;124mRank\u001B[39m\u001B[38;5;124m'\u001B[39m: ranks})\n\u001B[1;32m     16\u001B[0m \u001B[38;5;66;03m# Seaborn regplot with lowess=True for a smoother regression line\u001B[39;00m\n\u001B[0;32m---> 17\u001B[0m \u001B[43msns\u001B[49m\u001B[38;5;241;43m.\u001B[39;49m\u001B[43mregplot\u001B[49m\u001B[43m(\u001B[49m\u001B[43mx\u001B[49m\u001B[38;5;241;43m=\u001B[39;49m\u001B[38;5;124;43m'\u001B[39;49m\u001B[38;5;124;43mRank\u001B[39;49m\u001B[38;5;124;43m'\u001B[39;49m\u001B[43m,\u001B[49m\u001B[43m \u001B[49m\u001B[43my\u001B[49m\u001B[38;5;241;43m=\u001B[39;49m\u001B[38;5;124;43m'\u001B[39;49m\u001B[38;5;124;43mImportance\u001B[39;49m\u001B[38;5;124;43m'\u001B[39;49m\u001B[43m,\u001B[49m\u001B[43m \u001B[49m\u001B[43mdata\u001B[49m\u001B[38;5;241;43m=\u001B[39;49m\u001B[43mdata\u001B[49m\u001B[43m,\u001B[49m\u001B[43m \u001B[49m\u001B[43mlowess\u001B[49m\u001B[38;5;241;43m=\u001B[39;49m\u001B[38;5;28;43;01mTrue\u001B[39;49;00m\u001B[43m)\u001B[49m\n\u001B[1;32m     19\u001B[0m \u001B[38;5;66;03m# Set labels for the plot\u001B[39;00m\n\u001B[1;32m     20\u001B[0m plt\u001B[38;5;241m.\u001B[39mtitle(\u001B[38;5;124m'\u001B[39m\u001B[38;5;124mFeature Importance Ranked by Random Forest\u001B[39m\u001B[38;5;124m'\u001B[39m)\n",
      "File \u001B[0;32m~/Apps/Mara_HW3/.venv/lib/python3.11/site-packages/seaborn/regression.py:775\u001B[0m, in \u001B[0;36mregplot\u001B[0;34m(data, x, y, x_estimator, x_bins, x_ci, scatter, fit_reg, ci, n_boot, units, seed, order, logistic, lowess, robust, logx, x_partial, y_partial, truncate, dropna, x_jitter, y_jitter, label, color, marker, scatter_kws, line_kws, ax)\u001B[0m\n\u001B[1;32m    773\u001B[0m scatter_kws[\u001B[38;5;124m\"\u001B[39m\u001B[38;5;124mmarker\u001B[39m\u001B[38;5;124m\"\u001B[39m] \u001B[38;5;241m=\u001B[39m marker\n\u001B[1;32m    774\u001B[0m line_kws \u001B[38;5;241m=\u001B[39m {} \u001B[38;5;28;01mif\u001B[39;00m line_kws \u001B[38;5;129;01mis\u001B[39;00m \u001B[38;5;28;01mNone\u001B[39;00m \u001B[38;5;28;01melse\u001B[39;00m copy\u001B[38;5;241m.\u001B[39mcopy(line_kws)\n\u001B[0;32m--> 775\u001B[0m \u001B[43mplotter\u001B[49m\u001B[38;5;241;43m.\u001B[39;49m\u001B[43mplot\u001B[49m\u001B[43m(\u001B[49m\u001B[43max\u001B[49m\u001B[43m,\u001B[49m\u001B[43m \u001B[49m\u001B[43mscatter_kws\u001B[49m\u001B[43m,\u001B[49m\u001B[43m \u001B[49m\u001B[43mline_kws\u001B[49m\u001B[43m)\u001B[49m\n\u001B[1;32m    776\u001B[0m \u001B[38;5;28;01mreturn\u001B[39;00m ax\n",
      "File \u001B[0;32m~/Apps/Mara_HW3/.venv/lib/python3.11/site-packages/seaborn/regression.py:384\u001B[0m, in \u001B[0;36m_RegressionPlotter.plot\u001B[0;34m(self, ax, scatter_kws, line_kws)\u001B[0m\n\u001B[1;32m    381\u001B[0m     \u001B[38;5;28mself\u001B[39m\u001B[38;5;241m.\u001B[39mscatterplot(ax, scatter_kws)\n\u001B[1;32m    383\u001B[0m \u001B[38;5;28;01mif\u001B[39;00m \u001B[38;5;28mself\u001B[39m\u001B[38;5;241m.\u001B[39mfit_reg:\n\u001B[0;32m--> 384\u001B[0m     \u001B[38;5;28;43mself\u001B[39;49m\u001B[38;5;241;43m.\u001B[39;49m\u001B[43mlineplot\u001B[49m\u001B[43m(\u001B[49m\u001B[43max\u001B[49m\u001B[43m,\u001B[49m\u001B[43m \u001B[49m\u001B[43mline_kws\u001B[49m\u001B[43m)\u001B[49m\n\u001B[1;32m    386\u001B[0m \u001B[38;5;66;03m# Label the axes\u001B[39;00m\n\u001B[1;32m    387\u001B[0m \u001B[38;5;28;01mif\u001B[39;00m \u001B[38;5;28mhasattr\u001B[39m(\u001B[38;5;28mself\u001B[39m\u001B[38;5;241m.\u001B[39mx, \u001B[38;5;124m\"\u001B[39m\u001B[38;5;124mname\u001B[39m\u001B[38;5;124m\"\u001B[39m):\n",
      "File \u001B[0;32m~/Apps/Mara_HW3/.venv/lib/python3.11/site-packages/seaborn/regression.py:429\u001B[0m, in \u001B[0;36m_RegressionPlotter.lineplot\u001B[0;34m(self, ax, kws)\u001B[0m\n\u001B[1;32m    427\u001B[0m \u001B[38;5;250m\u001B[39m\u001B[38;5;124;03m\"\"\"Draw the model.\"\"\"\u001B[39;00m\n\u001B[1;32m    428\u001B[0m \u001B[38;5;66;03m# Fit the regression model\u001B[39;00m\n\u001B[0;32m--> 429\u001B[0m grid, yhat, err_bands \u001B[38;5;241m=\u001B[39m \u001B[38;5;28;43mself\u001B[39;49m\u001B[38;5;241;43m.\u001B[39;49m\u001B[43mfit_regression\u001B[49m\u001B[43m(\u001B[49m\u001B[43max\u001B[49m\u001B[43m)\u001B[49m\n\u001B[1;32m    430\u001B[0m edges \u001B[38;5;241m=\u001B[39m grid[\u001B[38;5;241m0\u001B[39m], grid[\u001B[38;5;241m-\u001B[39m\u001B[38;5;241m1\u001B[39m]\n\u001B[1;32m    432\u001B[0m \u001B[38;5;66;03m# Get set default aesthetics\u001B[39;00m\n",
      "File \u001B[0;32m~/Apps/Mara_HW3/.venv/lib/python3.11/site-packages/seaborn/regression.py:198\u001B[0m, in \u001B[0;36m_RegressionPlotter.fit_regression\u001B[0;34m(self, ax, x_range, grid)\u001B[0m\n\u001B[1;32m    196\u001B[0m \u001B[38;5;28;01mdef\u001B[39;00m \u001B[38;5;21mfit_regression\u001B[39m(\u001B[38;5;28mself\u001B[39m, ax\u001B[38;5;241m=\u001B[39m\u001B[38;5;28;01mNone\u001B[39;00m, x_range\u001B[38;5;241m=\u001B[39m\u001B[38;5;28;01mNone\u001B[39;00m, grid\u001B[38;5;241m=\u001B[39m\u001B[38;5;28;01mNone\u001B[39;00m):\n\u001B[1;32m    197\u001B[0m \u001B[38;5;250m    \u001B[39m\u001B[38;5;124;03m\"\"\"Fit the regression model.\"\"\"\u001B[39;00m\n\u001B[0;32m--> 198\u001B[0m     \u001B[38;5;28;43mself\u001B[39;49m\u001B[38;5;241;43m.\u001B[39;49m\u001B[43m_check_statsmodels\u001B[49m\u001B[43m(\u001B[49m\u001B[43m)\u001B[49m\n\u001B[1;32m    200\u001B[0m     \u001B[38;5;66;03m# Create the grid for the regression\u001B[39;00m\n\u001B[1;32m    201\u001B[0m     \u001B[38;5;28;01mif\u001B[39;00m grid \u001B[38;5;129;01mis\u001B[39;00m \u001B[38;5;28;01mNone\u001B[39;00m:\n",
      "File \u001B[0;32m~/Apps/Mara_HW3/.venv/lib/python3.11/site-packages/seaborn/regression.py:194\u001B[0m, in \u001B[0;36m_RegressionPlotter._check_statsmodels\u001B[0;34m(self)\u001B[0m\n\u001B[1;32m    192\u001B[0m \u001B[38;5;28;01mfor\u001B[39;00m option \u001B[38;5;129;01min\u001B[39;00m options:\n\u001B[1;32m    193\u001B[0m     \u001B[38;5;28;01mif\u001B[39;00m \u001B[38;5;28mgetattr\u001B[39m(\u001B[38;5;28mself\u001B[39m, option) \u001B[38;5;129;01mand\u001B[39;00m \u001B[38;5;129;01mnot\u001B[39;00m _has_statsmodels:\n\u001B[0;32m--> 194\u001B[0m         \u001B[38;5;28;01mraise\u001B[39;00m \u001B[38;5;167;01mRuntimeError\u001B[39;00m(err\u001B[38;5;241m.\u001B[39mformat(option))\n",
      "\u001B[0;31mRuntimeError\u001B[0m: `lowess=True` requires statsmodels, an optional dependency, to be installed."
     ]
    },
    {
     "data": {
      "text/plain": "<Figure size 640x480 with 1 Axes>",
      "image/png": "[encoded data removed]"
     },
     "metadata": {},
     "output_type": "display_data"
    }
   ],
   "source": [
    "\"\"\"\n",
    "Graph the importances of each feature as a descending curve\n",
    "\"\"\"\n",
    "import matplotlib.pyplot as plt\n",
    "import seaborn as sns\n",
    "import pandas as pd\n",
    "import numpy as np\n",
    "\n",
    "# Unpack feature names and importances into separate lists\n",
    "features, importances = zip(*ranked_features)\n",
    "\n",
    "# Represent index as a feature rank\n",
    "ranks = np.arange(len(features)) + 1\n",
    "\n",
    "# Create Dataframe for seaborn\n",
    "data = pd.DataFrame({'Importance': importances, 'Rank': ranks})\n",
    "\n",
    "# Seaborn regplot with lowess=True for a smoother regression line\n",
    "sns.regplot(x='Rank', y='Importance', data=data, lowess=True)\n",
    "\n",
    "# Set labels for the plot\n",
    "plt.title('Feature Importance Ranked by Random Forest')\n",
    "plt.xlabel('Rank')\n",
    "plt.ylabel('Importance (Drop in Accuracy)')\n",
    "\n",
    "plt.show()"
   ],
   "metadata": {
    "collapsed": false,
    "ExecuteTime": {
     "end_time": "2024-04-06T23:32:24.166637Z",
     "start_time": "2024-04-06T23:32:24.050280Z"
    }
   },
   "id": "758a768e7a9f29b3",
   "execution_count": 191
  },
  {
   "cell_type": "code",
   "outputs": [
    {
     "name": "stdout",
     "output_type": "stream",
     "text": [
      "The feature 91 has a drop-in accuracy of: 0.885\n",
      "The feature 202 has a drop-in accuracy of: 0.861\n",
      "The feature 219 has a drop-in accuracy of: 0.837\n",
      "The feature 115 has a drop-in accuracy of: 0.765\n",
      "The feature 238 has a drop-in accuracy of: 0.765\n",
      "The feature 279 has a drop-in accuracy of: 0.765\n",
      "The feature 24 has a drop-in accuracy of: 0.693\n",
      "The feature 148 has a drop-in accuracy of: 0.693\n",
      "The feature 156 has a drop-in accuracy of: 0.693\n",
      "The feature 99 has a drop-in accuracy of: 0.67\n"
     ]
    }
   ],
   "source": [
    "\"\"\"\n",
    "Get the ten most important features (k1 ... k10)\n",
    "\"\"\"\n",
    "top_10_features = ranked_features[:10]\n",
    "\n",
    "for feature, importance in top_10_features:\n",
    "    print(f\"The feature {feature} has a drop-in accuracy of: {round(importance,3)}\")"
   ],
   "metadata": {
    "collapsed": false,
    "ExecuteTime": {
     "end_time": "2024-04-06T22:49:44.043171Z",
     "start_time": "2024-04-06T22:49:44.039647Z"
    }
   },
   "id": "ae5817865bdad0f8",
   "execution_count": 156
  },
  {
   "cell_type": "code",
   "outputs": [
    {
     "name": "stdout",
     "output_type": "stream",
     "text": [
      "The ten most important pairs of stock 'j' and time delay 'r' are:\n",
      "('NVDA', 1)\n",
      "('C', 7)\n",
      "('WFC', 9)\n",
      "('AMD', 10)\n",
      "('GS', 13)\n",
      "('DJI', 9)\n",
      "('MSFT', 9)\n",
      "('NFLX', 13)\n",
      "('JPM', 6)\n",
      "('NVDA', 9)\n"
     ]
    }
   ],
   "source": [
    "\"\"\"\n",
    "Translate our list of features into the form Yj(t-r)\n",
    " where j is a given stock, and r is the time offset\n",
    "\"\"\"\n",
    "def map_number_to_day(number: int):\n",
    "    return number%15\n",
    "    \n",
    "def map_number_to_ticker(number: int, tickers: list):\n",
    "    if number < 0:\n",
    "        raise ValueError(\"Number must be non-negative\")\n",
    "\n",
    "    index = number // 15\n",
    "    if index >= len(tickers):\n",
    "        raise ValueError(\"Number is too large for available tickers\")\n",
    "\n",
    "    return tickers[index], map_number_to_day(number)\n",
    "\n",
    "\n",
    "print(\"The ten most important pairs of stock 'j' and time delay 'r' are:\")\n",
    "for feature, importance in top_10_features:\n",
    "    print(map_number_to_ticker(feature, tickers))\n"
   ],
   "metadata": {
    "collapsed": false,
    "ExecuteTime": {
     "end_time": "2024-04-06T22:40:53.941836Z",
     "start_time": "2024-04-06T22:40:53.936924Z"
    }
   },
   "id": "d86229fe897c54a8",
   "execution_count": 142
  },
  {
   "cell_type": "code",
   "outputs": [
    {
     "name": "stdout",
     "output_type": "stream",
     "text": [
      "The feature 92 has a drop-in accuracy of: -0.048\n",
      "The feature 157 has a drop-in accuracy of: -0.048\n",
      "The feature 162 has a drop-in accuracy of: -0.048\n",
      "The feature 224 has a drop-in accuracy of: -0.048\n",
      "The feature 68 has a drop-in accuracy of: -0.072\n",
      "The feature 267 has a drop-in accuracy of: -0.12\n",
      "The feature 193 has a drop-in accuracy of: -0.143\n",
      "The feature 230 has a drop-in accuracy of: -0.167\n",
      "The feature 286 has a drop-in accuracy of: -0.191\n",
      "The feature 160 has a drop-in accuracy of: -0.287\n"
     ]
    }
   ],
   "source": [
    "\"\"\"\n",
    "Repeat for the 10 least important features\n",
    "\"\"\"\n",
    "bottom_10_features = ranked_features[-10:]\n",
    "\n",
    "for feature, importance in bottom_10_features:\n",
    "    print(f\"The feature {feature} has a drop-in accuracy of: {round(importance,3)}\")"
   ],
   "metadata": {
    "collapsed": false,
    "ExecuteTime": {
     "end_time": "2024-04-06T22:49:57.073591Z",
     "start_time": "2024-04-06T22:49:57.070713Z"
    }
   },
   "id": "915fbb112204310c",
   "execution_count": 158
  },
  {
   "cell_type": "code",
   "outputs": [
    {
     "name": "stdout",
     "output_type": "stream",
     "text": [
      "The ten least important pairs of stock 'j' and time delay 'r' are:\n",
      "('NVDA', 2)\n",
      "('JPM', 7)\n",
      "('JPM', 12)\n",
      "('WFC', 14)\n",
      "('GOOGL', 8)\n",
      "('MCD', 12)\n",
      "('BAC', 13)\n",
      "('GS', 5)\n",
      "('SPY', 1)\n",
      "('JPM', 10)\n"
     ]
    }
   ],
   "source": [
    "\"\"\"\n",
    "print our 10 least important features in the form (J,r)\n",
    "\"\"\"\n",
    "print(\"The ten least important pairs of stock 'j' and time delay 'r' are:\")\n",
    "for feature, importance in bottom_10_features:\n",
    "    print(map_number_to_ticker(feature, tickers))"
   ],
   "metadata": {
    "collapsed": false,
    "ExecuteTime": {
     "end_time": "2024-04-06T22:48:25.318233Z",
     "start_time": "2024-04-06T22:48:25.314481Z"
    }
   },
   "id": "f7c21cbeb4568264",
   "execution_count": 151
  },
  {
   "cell_type": "code",
   "outputs": [
    {
     "name": "stdout",
     "output_type": "stream",
     "text": [
      "97.06%\n"
     ]
    }
   ],
   "source": [
    "################### Slide 16 part 1 ########################\n",
    "\"\"\"\n",
    "Keep the 40 most important features and get their Zt value\n",
    "\"\"\"\n",
    "\n",
    "# Get the 40 most important features\n",
    "features, importances = zip(*ranked_features[:40])\n",
    "# Convert into a list so we can use its elements to get the data which corresponds to each feature from X_data\n",
    "features = list(features)\n",
    "# Get the 40 most important features and their daily returns from X_data\n",
    "X40 = X_data.iloc[:,features].T\n",
    "# Get the corresponding values Zt\n",
    "Z40 = make_zt(X40)\n",
    "\n",
    "# Split the data into Training and Test data\n",
    "X40_train, X40_test, Y40_train, Y40_test = train_test_split(X40, Z40, test_size=0.15)\n",
    "\n",
    "# Train a new random forest with our RF* trees, and 20 random features per node\n",
    "RF40 = RandomForestClassifier(n_estimators=100, max_features=20, criterion='gini', n_jobs=-1, oob_score=True)\n",
    "RF40.fit(X40_train, np.ravel(Y40_train))\n",
    "\n",
    "# Print out of box score\n",
    "print(f\"{round(RF40.oob_score_*100,2)}%\")\n"
   ],
   "metadata": {
    "collapsed": false,
    "ExecuteTime": {
     "end_time": "2024-04-06T23:27:08.088540Z",
     "start_time": "2024-04-06T23:27:07.964303Z"
    }
   },
   "id": "3867f3f0037f8d79",
   "execution_count": 187
  },
  {
   "cell_type": "code",
   "outputs": [
    {
     "name": "stdout",
     "output_type": "stream",
     "text": [
      "[[35.29% 0.00% 0.00%]\n",
      " [0.00% 35.29% 0.00%]\n",
      " [0.00% 0.00% 29.41%]]\n",
      "[[16.67% 0.00% 0.00%]\n",
      " [0.00% 33.33% 0.00%]\n",
      " [0.00% 0.00% 50.00%]]\n"
     ]
    }
   ],
   "source": [
    "\"\"\"\n",
    "Create a new Training Confusion Matrix and Test Confusion Matrix \n",
    "from our Random Forest trained on the 40 most important features\n",
    "\"\"\"\n",
    "# Format print to print the matrix elements as percentages\n",
    "np.set_printoptions(formatter={'float': lambda x: \"{:0.2f}%\".format(x)})\n",
    "\n",
    "# Get training matrix\n",
    "Y40_train_pred = RF40.predict(X40_train)\n",
    "newTrainCONF = confusion_matrix(np.ravel(Y40_train), Y40_train_pred)\n",
    "print(confusion_matrix_percentage(newTrainCONF))\n",
    "\n",
    "# Get test matrix\n",
    "Y40_test_pred = RF40.predict(X40_test)\n",
    "newTestCONF = confusion_matrix(np.ravel(Y40_test), Y40_test_pred)\n",
    "print(confusion_matrix_percentage(newTestCONF))\n",
    "\n"
   ],
   "metadata": {
    "collapsed": false,
    "ExecuteTime": {
     "end_time": "2024-04-06T23:28:39.916453Z",
     "start_time": "2024-04-06T23:28:39.881366Z"
    }
   },
   "id": "19a77e737390fa3f",
   "execution_count": 190
  }
 ],
 "metadata": {
  "kernelspec": {
   "display_name": "Python 3",
   "language": "python",
   "name": "python3"
  },
  "language_info": {
   "codemirror_mode": {
    "name": "ipython",
    "version": 2
   },
   "file_extension": ".py",
   "mimetype": "text/x-python",
   "name": "python",
   "nbconvert_exporter": "python",
   "pygments_lexer": "ipython2",
   "version": "2.7.6"
  }
 },
 "nbformat": 4,
 "nbformat_minor": 5
}
