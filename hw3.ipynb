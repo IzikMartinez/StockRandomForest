{
 "cells": [
  {
   "cell_type": "code",
   "execution_count": 1,
   "id": "initial_id",
   "metadata": {
    "collapsed": true,
    "ExecuteTime": {
     "end_time": "2024-03-15T19:34:37.690809Z",
     "start_time": "2024-03-15T19:34:36.918922Z"
    }
   },
   "outputs": [],
   "source": [
    "import yfinance as yf\n",
    "import matplotlib.pyplot as plt\n",
    "import pandas as pd\n",
    "\n",
    "\"\"\"\n",
    "Closing Price\n",
    "Represents Sj(t)\n",
    "\"\"\"\n",
    "\n",
    "\n",
    "def closing_price(stockDF, T):\n",
    "    return stockDF.loc[str(T), 'Close']\n",
    "\n",
    "\n",
    "def daily_rate_of_return(stockDF, T):\n",
    "    today = closing_price(stockDF, T)\n",
    "    yesterday = closing_price(stockDF, T - 1)\n",
    "    return (today - yesterday) / yesterday\n",
    "\n",
    "\n",
    "def vj(stockDF, T):\n",
    "    rates_of_return = []\n",
    "    for i in range(0, 15):\n",
    "        rates_of_return.append(daily_rate_of_return(stockDF, T - i))\n",
    "    # Invert the elements in rates_of_return\n",
    "    rates_of_return = rates_of_return[:: -1]\n",
    "    return rates_of_return\n",
    "\n",
    "\n",
    "# Try this both ways before submitting\n",
    "def true_class(targ):\n",
    "    # if UP\n",
    "    if targ >= 0.006:\n",
    "        return 1\n",
    "    # if DOWN\n",
    "    elif targ <= -0.006:\n",
    "        return 2\n",
    "    # If STABLE\n",
    "    else:\n",
    "        return 0\n",
    "\n",
    "\n",
    "def targ(stockDF, T):\n",
    "    return daily_rate_of_return(stockDF, T+1)\n",
    "\n",
    "\n",
    "def make_zt(X):\n",
    "    return X.map(true_class)\n",
    "\n",
    "def make_xt(stocks, T):\n",
    "    \"\"\"\n",
    "    Xt Represents an array containing all our line vector stock data \"Vj(t)\"\n",
    "    \"\"\"\n",
    "    xt_list = []\n",
    "    ticker_list = []\n",
    "    for stock, ticker in stocks:\n",
    "        xt_list.append(vj(stock, T))\n",
    "        ticker_list.append(ticker)\n",
    "    return xt_list, ticker_list\n"
   ]
  },
  {
   "cell_type": "code",
   "outputs": [],
   "source": [
    "tickers = [\"AAPL\", \"MSFT\", \"TSLA\", \"META\", \"GOOGL\", \"AMZN\", \"NVDA\", \"AMD\", \"DIS\", \"NFLX\",\n",
    "           \"JPM\", \"KO\", \"BAC\", \"C\", \"WFC\", \"GS\", \"AXP\", \"MCD\", \"DJI\", \"SPY\"]\n",
    "\n",
    "stocks = []\n",
    "\n",
    "for ticker in tickers:\n",
    "    stocks.append((yf.Ticker(ticker).history(start='2016-01-01', end='2022-12-31'), ticker))\n",
    "\n",
    "for stock in stocks:\n",
    "    new_index = [str(i + 1) for i in range(len(stock[0]))]\n",
    "    stock[0].index = new_index\n"
   ],
   "metadata": {
    "collapsed": false
   },
   "id": "da2ddcd56aa73da"
  },
  {
   "cell_type": "code",
   "outputs": [],
   "source": [
    "Y = []\n",
    "for stock, ticker in stocks:\n",
    "    for day in range(2, len(stock) - 1):\n",
    "        Y.append((ticker, day, daily_rate_of_return(stock, day)))"
   ],
   "metadata": {
    "collapsed": false
   },
   "id": "1d2627cb66a8f463"
  },
  {
   "cell_type": "code",
   "outputs": [],
   "source": [
    "import matplotlib.cm as cm\n",
    "\n",
    "colors = cm.get_cmap('rainbow', 3)  # using 'rainbow' colormap here, you can choose any\n",
    "unique_tickers = list(set([x[0] for x in Y]))  # gets unique tickers\n",
    "\n",
    "\n",
    "# Chunking function\n",
    "def chunks(lst, n):\n",
    "    \"\"\"Yield successive n-sized chunks from lst.\"\"\"\n",
    "    for i in range(0, len(lst), n):\n",
    "        yield lst[i:i + n]\n",
    "\n",
    "\n",
    "# Dividing tickers into chunks of 5\n",
    "chunks_of_tickers = list(chunks(unique_tickers, 3))\n",
    "\"\"\"\n",
    "# Now plotting\n",
    "for chunk in chunks_of_tickers:\n",
    "    for i, ticker in enumerate(chunk):\n",
    "        ticker_data = [x for x in Y if x[0] == ticker]  # filter out data for this ticker only\n",
    "        days = [x[1] for x in ticker_data]  # x-axis data\n",
    "        rates_of_return = [x[2] for x in ticker_data]  # y-axis data\n",
    "        plt.plot(days, rates_of_return, color=colors(i), label=ticker)\n",
    "    plt.xlabel('Day')\n",
    "    plt.ylabel('Rate of Return')\n",
    "    plt.title('Rate of Return Over Days for Each Ticker')\n",
    "    plt.legend()  # add a legend\n",
    "    plt.show()\n",
    "\"\"\"\n",
    "\n"
   ],
   "metadata": {
    "collapsed": false
   },
   "id": "ecd1fd607f9ab2a"
  },
  {
   "cell_type": "code",
   "outputs": [
    {
     "name": "stdout",
     "output_type": "stream",
     "text": [
      "        AAPL      MSFT      TSLA      META     GOOGL      AMZN      NVDA  \\\n",
      "0  -0.001067  0.014839  0.004320  0.008420  0.009225  0.036780  0.013228   \n",
      "1   0.016446 -0.016400 -0.039206 -0.009615 -0.008357 -0.018323 -0.011944   \n",
      "2  -0.010402  0.001808 -0.042011  0.005365  0.004136 -0.000626 -0.022772   \n",
      "3  -0.004059  0.001404 -0.049560 -0.002118  0.004695 -0.017603  0.006042   \n",
      "4  -0.005577  0.009011  0.016073  0.014260  0.014649  0.022546  0.010295   \n",
      "5   0.000755 -0.006351 -0.027963 -0.002092  0.005447  0.008606 -0.001415   \n",
      "6   0.006789  0.018974 -0.001101  0.010567  0.014058  0.034307  0.019274   \n",
      "7  -0.009741  0.000588  0.001294 -0.008133 -0.011942  0.014451  0.002781   \n",
      "8  -0.023457  0.009011 -0.008040  0.006359 -0.003395  0.006590 -0.013588   \n",
      "9   0.001993 -0.008347  0.001592 -0.003908 -0.004450 -0.011157  0.152094   \n",
      "10  0.037119  0.014683  0.003275 -0.009515  0.007547  0.001042  0.029527   \n",
      "11 -0.004154 -0.018652 -0.017428 -0.011123 -0.013844 -0.021656  0.002133   \n",
      "12  0.011445  0.005940  0.031809  0.002556  0.002208  0.003136  0.025544   \n",
      "13 -0.003807 -0.009644  0.019131 -0.007140 -0.008964  0.001534  0.004382   \n",
      "14  0.010828  0.005962  0.023558  0.004623  0.008947  0.006127  0.017911   \n",
      "\n",
      "         AMD       DIS      NFLX       JPM        KO       BAC         C  \\\n",
      "0   0.053521  0.010653  0.034211  0.009335  0.004018  0.014423  0.008643   \n",
      "1  -0.037433 -0.005558 -0.016862 -0.019282 -0.003113 -0.027759 -0.023779   \n",
      "2   0.000000 -0.001060 -0.008193 -0.015825  0.003122 -0.016017 -0.019969   \n",
      "3   0.016667  0.012154 -0.015640 -0.005360  0.001779 -0.005662 -0.009628   \n",
      "4   0.005464  0.005813  0.016448  0.005879  0.005770  0.004270  0.004070   \n",
      "5  -0.008152 -0.001895 -0.003302 -0.006331 -0.001765 -0.008505 -0.011710   \n",
      "6  -0.002740  0.011961  0.025955  0.013560  0.011273  0.022159  0.021645   \n",
      "7   0.002747 -0.040432 -0.030897 -0.003707 -0.006338 -0.006993 -0.008252   \n",
      "8  -0.016438 -0.005670 -0.025328 -0.000647  0.008139 -0.004225 -0.010569   \n",
      "9   0.022284 -0.011700  0.001596 -0.009228 -0.010473 -0.018387 -0.020227   \n",
      "10  0.032698 -0.001592  0.014110  0.007516  0.005954  0.003602  0.000928   \n",
      "11  0.000000 -0.004185 -0.005498  0.000000 -0.019071  0.005743  0.012746   \n",
      "12  0.013193 -0.009406  0.021099  0.038599 -0.006034  0.048537  0.049657   \n",
      "13 -0.018229 -0.005960 -0.010497 -0.010150 -0.003597 -0.010892 -0.017658   \n",
      "14  0.026525  0.013922  0.032831  0.001893 -0.008348 -0.000688 -0.003551   \n",
      "\n",
      "         WFC        GS       AXP       MCD       DJI       SPY  \n",
      "0   0.012205  0.012613  0.003821  0.013519  0.006617  0.007949  \n",
      "1  -0.011663 -0.018293 -0.012637  0.001560 -0.007842 -0.008703  \n",
      "2  -0.013704 -0.018818 -0.009098  0.007243 -0.005611 -0.005578  \n",
      "3   0.000408 -0.003373 -0.005291 -0.000386  0.000532 -0.000195  \n",
      "4   0.001226 -0.004263  0.009230  0.010056  0.004524  0.003659  \n",
      "5  -0.002856 -0.008436 -0.008216  0.001915 -0.001956  0.000826  \n",
      "6   0.010638  0.024824  0.013442  0.005885  0.012561  0.012434  \n",
      "7  -0.006478 -0.012390 -0.003856 -0.018693 -0.012115 -0.009355  \n",
      "8   0.002445 -0.008468 -0.003870  0.007589  0.000531  0.000291  \n",
      "9  -0.019512 -0.017271 -0.003419 -0.009914 -0.010451 -0.008714  \n",
      "10  0.000622  0.000258 -0.000780  0.006287  0.010003  0.009865  \n",
      "11 -0.013466 -0.004698 -0.020446 -0.015041 -0.010203 -0.009334  \n",
      "12  0.021630  0.034206  0.012110 -0.011591 -0.000194  0.000293  \n",
      "13 -0.005550 -0.032762 -0.012280 -0.007289 -0.005203 -0.003465  \n",
      "14  0.007648 -0.001229  0.018808 -0.021790  0.003757  0.006317  \n",
      "    AAPL  MSFT  TSLA  META  GOOGL  AMZN  NVDA  AMD  DIS  NFLX  JPM  KO  BAC  \\\n",
      "0      0     1     0     1      1     1     1    1    1     1    1   0    1   \n",
      "1      1     2     2     2      2     2     2    2    0     2    2   0    2   \n",
      "2      2     0     2     0      0     0     2    0    0     2    2   0    2   \n",
      "3      0     0     2     0      0     2     1    1    1     2    0   0    0   \n",
      "4      0     1     1     1      1     1     1    0    0     1    0   0    0   \n",
      "5      0     2     2     0      0     1     0    2    0     0    2   0    2   \n",
      "6      1     1     0     1      1     1     1    0    1     1    1   1    1   \n",
      "7      2     0     0     2      2     1     0    0    2     2    0   2    2   \n",
      "8      2     1     2     1      0     1     2    2    0     2    0   1    0   \n",
      "9      0     2     0     0      0     2     1    1    2     0    2   2    2   \n",
      "10     1     1     0     2      1     0     1    1    0     1    1   0    0   \n",
      "11     0     2     2     2      2     2     0    0    0     0    0   2    0   \n",
      "12     1     0     1     0      0     0     1    1    2     1    1   2    1   \n",
      "13     0     2     1     2      2     0     0    2    0     2    2   0    2   \n",
      "14     1     0     1     0      1     1     1    1    1     1    0   2    0   \n",
      "\n",
      "    C  WFC  GS  AXP  MCD  DJI  SPY  \n",
      "0   1    1   1    0    1    1    1  \n",
      "1   2    2   2    2    0    2    2  \n",
      "2   2    2   2    2    1    0    0  \n",
      "3   2    0   0    0    0    0    0  \n",
      "4   0    0   0    1    1    0    0  \n",
      "5   2    0   2    2    0    0    0  \n",
      "6   1    1   1    1    0    1    1  \n",
      "7   2    2   2    0    2    2    2  \n",
      "8   2    0   2    0    1    0    0  \n",
      "9   2    2   2    0    2    2    2  \n",
      "10  0    0   0    0    1    1    1  \n",
      "11  1    2   0    2    2    2    2  \n",
      "12  1    1   1    1    2    0    0  \n",
      "13  2    0   2    2    2    0    0  \n",
      "14  0    1   0    1    2    0    1  \n"
     ]
    }
   ],
   "source": [
    "Xt, tickers = make_xt(stocks, 97)\n",
    "\n",
    "# extract vj values and convert to dataframe\n",
    "\n",
    "import numpy as np\n",
    "import pandas as pd\n",
    "\n",
    "# reshape it into 1D and convert into a DataFrame\n",
    "X_data = pd.DataFrame(Xt, index=tickers).T\n",
    "\n",
    "print(X_data)\n",
    "Z_data = make_zt(X_data)\n",
    "print(Z_data)"
   ],
   "metadata": {
    "collapsed": false,
    "ExecuteTime": {
     "end_time": "2024-03-15T20:37:53.195035Z",
     "start_time": "2024-03-15T20:37:53.181972Z"
    }
   },
   "id": "bd6c79a74661b202",
   "execution_count": 65
  },
  {
   "cell_type": "code",
   "outputs": [
    {
     "name": "stdout",
     "output_type": "stream",
     "text": [
      "Training took 0.08655667304992676 seconds.\n",
      "OOB score: 0.5333333333333333\n"
     ]
    }
   ],
   "source": [
    "from sklearn.ensemble import RandomForestClassifier, RandomForestRegressor\n",
    "import time\n",
    "# Create our random forest classifier\n",
    "clf = RandomForestClassifier(n_estimators=100, random_state=42, oob_score=True)\n",
    "\n",
    "start_time = time.time()\n",
    "#X_train = X_data.iloc[:-1, :]\n",
    "target = Z_data['SPY']\n",
    "#target = target.iloc[1:]\n",
    "clf.fit(X_data, target)\n",
    "end_time = time.time()\n",
    "\n",
    "elapsed_time = end_time - start_time\n",
    "\n",
    "print(f\"Training took {elapsed_time} seconds.\")\n",
    "print(f\"OOB score: {clf.oob_score_}\")"
   ],
   "metadata": {
    "collapsed": false,
    "ExecuteTime": {
     "end_time": "2024-03-15T20:37:55.621515Z",
     "start_time": "2024-03-15T20:37:55.531780Z"
    }
   },
   "id": "ae8ff395d2e77da0",
   "execution_count": 66
  },
  {
   "cell_type": "code",
   "outputs": [
    {
     "name": "stdout",
     "output_type": "stream",
     "text": [
      "300\n",
      "112\n",
      "90\n",
      "98\n",
      "Initial Stable Ratio: 0.37333333333333335\n",
      "Initial Up Ratio: 0.3\n",
      "Initial Down Ratio: 0.32666666666666666\n"
     ]
    }
   ],
   "source": [
    "CL0 = Z_data.apply(lambda x: (x == 0))\n",
    "CL1 = Z_data.apply(lambda x: (x == 1))\n",
    "CL2 = Z_data.apply(lambda x: (x == 2))\n",
    "\n",
    "s0 = CL0.sum().sum()\n",
    "s1 = CL1.sum().sum()\n",
    "s2 = CL2.sum().sum()\n",
    "\n",
    "N = s0 + s1 + s2\n",
    "\n",
    "print(N)\n",
    "print(s0)\n",
    "print(s1)\n",
    "print(s2)\n",
    "\n",
    "R0 = s0/N\n",
    "R1 = s1/N\n",
    "R2 = s2/N\n",
    "print(f\"Initial Stable Ratio: {R0}\\nInitial Up Ratio: {R1}\\nInitial Down Ratio: {R2}\")\n"
   ],
   "metadata": {
    "collapsed": false,
    "ExecuteTime": {
     "end_time": "2024-03-15T20:37:56.646273Z",
     "start_time": "2024-03-15T20:37:56.635425Z"
    }
   },
   "id": "227ab78f9fd115a2",
   "execution_count": 67
  },
  {
   "cell_type": "code",
   "outputs": [
    {
     "name": "stdout",
     "output_type": "stream",
     "text": [
      "Number of 'UP' entries to add 50\n",
      "Number of 'STABLE' entries to add 114\n"
     ]
    }
   ],
   "source": [
    "import numpy as np\n",
    "## Increase the number of Stable and Up days\n",
    "import numpy as np\n",
    "\n",
    "percent_increase = 0.65\n",
    "percent_increase_stable = 1.00\n",
    "\n",
    "# Applying condition on all columns and count True results, then scale\n",
    "n_up = int(s1 * percent_increase)\n",
    "n_stable = int(s0 * percent_increase_stable)\n",
    "print(f\"Number of 'UP' entries to add {n_up}\")\n",
    "print(f\"Number of 'STABLE' entries to add {n_stable}\")\n",
    "\n"
   ],
   "metadata": {
    "collapsed": false,
    "ExecuteTime": {
     "end_time": "2024-03-15T20:32:10.120803Z",
     "start_time": "2024-03-15T20:32:10.117381Z"
    }
   },
   "id": "4ffda56818ccadf3",
   "execution_count": 61
  },
  {
   "cell_type": "code",
   "outputs": [
    {
     "name": "stdout",
     "output_type": "stream",
     "text": [
      "        AAPL      MSFT      TSLA      META     GOOGL      AMZN      NVDA  \\\n",
      "8  -0.004839 -0.008433 -0.001317  0.003054  0.012090  0.007541  0.008115   \n",
      "3   0.016192 -0.000573 -0.014929  0.001849  0.002955  0.017610  0.001688   \n",
      "3   0.016192 -0.000573 -0.014929  0.001849  0.002955  0.017610  0.001688   \n",
      "4   0.014513  0.009178  0.010200  0.019075  0.016738  0.000243  0.016846   \n",
      "0  -0.019570 -0.018165 -0.019648  0.002336 -0.002889 -0.001799 -0.041350   \n",
      "11  0.053167  0.035856  0.012902  0.040144  0.025858  0.037147  0.023381   \n",
      "3   0.016192 -0.000573 -0.014929  0.001849  0.002955  0.017610  0.001688   \n",
      "9   0.001345  0.004549 -0.029406 -0.009553 -0.000723 -0.004717  0.005489   \n",
      "0  -0.019570 -0.018165 -0.019648  0.002336 -0.002889 -0.001799 -0.041350   \n",
      "13  0.005531  0.007337 -0.014360  0.003402  0.000232  0.007912  0.009852   \n",
      "11  0.053167  0.035856  0.012902  0.040144  0.025858  0.037147  0.023381   \n",
      "10 -0.005063 -0.006103  0.006392 -0.002014  0.011286  0.005684  0.011645   \n",
      "4   0.014513  0.009178  0.010200  0.019075  0.016738  0.000243  0.016846   \n",
      "6   0.021871  0.028466  0.029305  0.030700  0.016426  0.019233 -0.020164   \n",
      "10 -0.005063 -0.006103  0.006392 -0.002014  0.011286  0.005684  0.011645   \n",
      "9   0.001345  0.004549 -0.029406 -0.009553 -0.000723 -0.004717  0.005489   \n",
      "12 -0.019523 -0.009562 -0.030462 -0.009496 -0.015883  0.000252 -0.001054   \n",
      "14 -0.065707 -0.018210 -0.028363 -0.029690 -0.022091 -0.029771 -0.011847   \n",
      "0  -0.019570 -0.018165 -0.019648  0.002336 -0.002889 -0.001799 -0.041350   \n",
      "10 -0.005063 -0.006103  0.006392 -0.002014  0.011286  0.005684  0.011645   \n",
      "13  0.005531  0.007337 -0.014360  0.003402  0.000232  0.007912  0.009852   \n",
      "4   0.014513  0.009178  0.010200  0.019075  0.016738  0.000243  0.016846   \n",
      "12 -0.019523 -0.009562 -0.030462 -0.009496 -0.015883  0.000252 -0.001054   \n",
      "14 -0.065707 -0.018210 -0.028363 -0.029690 -0.022091 -0.029771 -0.011847   \n",
      "13  0.005531  0.007337 -0.014360  0.003402  0.000232  0.007912  0.009852   \n",
      "6   0.021871  0.028466  0.029305  0.030700  0.016426  0.019233 -0.020164   \n",
      "6   0.021871  0.028466  0.029305  0.030700  0.016426  0.019233 -0.020164   \n",
      "8  -0.004839 -0.008433 -0.001317  0.003054  0.012090  0.007541  0.008115   \n",
      "9   0.001345  0.004549 -0.029406 -0.009553 -0.000723 -0.004717  0.005489   \n",
      "12 -0.019523 -0.009562 -0.030462 -0.009496 -0.015883  0.000252 -0.001054   \n",
      "12 -0.019523 -0.009562 -0.030462 -0.009496 -0.015883  0.000252 -0.001054   \n",
      "6   0.021871  0.028466  0.029305  0.030700  0.016426  0.019233 -0.020164   \n",
      "14 -0.065707 -0.018210 -0.028363 -0.029690 -0.022091 -0.029771 -0.011847   \n",
      "12 -0.019523 -0.009562 -0.030462 -0.009496 -0.015883  0.000252 -0.001054   \n",
      "14 -0.065707 -0.018210 -0.028363 -0.029690 -0.022091 -0.029771 -0.011847   \n",
      "13  0.005531  0.007337 -0.014360  0.003402  0.000232  0.007912  0.009852   \n",
      "0  -0.019570 -0.018165 -0.019648  0.002336 -0.002889 -0.001799 -0.041350   \n",
      "14 -0.065707 -0.018210 -0.028363 -0.029690 -0.022091 -0.029771 -0.011847   \n",
      "0  -0.019570 -0.018165 -0.019648  0.002336 -0.002889 -0.001799 -0.041350   \n",
      "10 -0.005063 -0.006103  0.006392 -0.002014  0.011286  0.005684  0.011645   \n",
      "0  -0.019570 -0.018165 -0.019648  0.002336 -0.002889 -0.001799 -0.041350   \n",
      "14 -0.065707 -0.018210 -0.028363 -0.029690 -0.022091 -0.029771 -0.011847   \n",
      "14 -0.065707 -0.018210 -0.028363 -0.029690 -0.022091 -0.029771 -0.011847   \n",
      "11  0.053167  0.035856  0.012902  0.040144  0.025858  0.037147  0.023381   \n",
      "11  0.053167  0.035856  0.012902  0.040144  0.025858  0.037147  0.023381   \n",
      "11  0.053167  0.035856  0.012902  0.040144  0.025858  0.037147  0.023381   \n",
      "3   0.016192 -0.000573 -0.014929  0.001849  0.002955  0.017610  0.001688   \n",
      "11  0.053167  0.035856  0.012902  0.040144  0.025858  0.037147  0.023381   \n",
      "12 -0.019523 -0.009562 -0.030462 -0.009496 -0.015883  0.000252 -0.001054   \n",
      "6   0.021871  0.028466  0.029305  0.030700  0.016426  0.019233 -0.020164   \n",
      "13  0.005531  0.007337 -0.014360  0.003402  0.000232  0.007912  0.009852   \n",
      "6   0.021871  0.028466  0.029305  0.030700  0.016426  0.019233 -0.020164   \n",
      "11  0.053167  0.035856  0.012902  0.040144  0.025858  0.037147  0.023381   \n",
      "6   0.021871  0.028466  0.029305  0.030700  0.016426  0.019233 -0.020164   \n",
      "0  -0.019570 -0.018165 -0.019648  0.002336 -0.002889 -0.001799 -0.041350   \n",
      "6   0.021871  0.028466  0.029305  0.030700  0.016426  0.019233 -0.020164   \n",
      "10 -0.005063 -0.006103  0.006392 -0.002014  0.011286  0.005684  0.011645   \n",
      "\n",
      "         AMD       DIS      NFLX       JPM        KO       BAC         C  \\\n",
      "8  -0.039409  0.000746  0.037005 -0.000526  0.010120 -0.015214 -0.012479   \n",
      "3   0.093458  0.006751  0.032139 -0.001527  0.001686  0.007237  0.015608   \n",
      "3   0.093458  0.006751  0.032139 -0.001527  0.001686  0.007237  0.015608   \n",
      "4   0.021368  0.015412  0.014004  0.002209  0.012987  0.000000  0.000641   \n",
      "0  -0.087273 -0.005352  0.093071 -0.014436 -0.005405 -0.021302 -0.014550   \n",
      "11 -0.033493  0.030632 -0.015926  0.030769  0.016188  0.014970  0.022665   \n",
      "3   0.093458  0.006751  0.032139 -0.001527  0.001686  0.007237  0.015608   \n",
      "9  -0.076923 -0.015218 -0.001390 -0.026312 -0.012881 -0.038623 -0.034573   \n",
      "0  -0.087273 -0.005352  0.093071 -0.014436 -0.005405 -0.021302 -0.014550   \n",
      "13 -0.023585  0.010284 -0.013015  0.025512 -0.001897  0.027006  0.024021   \n",
      "11 -0.033493  0.030632 -0.015926  0.030769  0.016188  0.014970  0.022665   \n",
      "10  0.161111  0.015993 -0.050028 -0.004684  0.000241 -0.024105 -0.008398   \n",
      "4   0.021368  0.015412  0.014004  0.002209  0.012987  0.000000  0.000641   \n",
      "6  -0.017778  0.006397  0.004692  0.014998  0.000717  0.006040  0.004205   \n",
      "10  0.161111  0.015993 -0.050028 -0.004684  0.000241 -0.024105 -0.008398   \n",
      "9  -0.076923 -0.015218 -0.001390 -0.026312 -0.012881 -0.038623 -0.034573   \n",
      "12  0.049505 -0.016615 -0.015886 -0.022651  0.002378 -0.044247 -0.036776   \n",
      "14  0.028986 -0.020255 -0.068282 -0.000701  0.000238  0.003756  0.001481   \n",
      "0  -0.087273 -0.005352  0.093071 -0.014436 -0.005405 -0.021302 -0.014550   \n",
      "10  0.161111  0.015993 -0.050028 -0.004684  0.000241 -0.024105 -0.008398   \n",
      "13 -0.023585  0.010284 -0.013015  0.025512 -0.001897  0.027006  0.024021   \n",
      "4   0.021368  0.015412  0.014004  0.002209  0.012987  0.000000  0.000641   \n",
      "12  0.049505 -0.016615 -0.015886 -0.022651  0.002378 -0.044247 -0.036776   \n",
      "14  0.028986 -0.020255 -0.068282 -0.000701  0.000238  0.003756  0.001481   \n",
      "13 -0.023585  0.010284 -0.013015  0.025512 -0.001897  0.027006  0.024021   \n",
      "6  -0.017778  0.006397  0.004692  0.014998  0.000717  0.006040  0.004205   \n",
      "6  -0.017778  0.006397  0.004692  0.014998  0.000717  0.006040  0.004205   \n",
      "8  -0.039409  0.000746  0.037005 -0.000526  0.010120 -0.015214 -0.012479   \n",
      "9  -0.076923 -0.015218 -0.001390 -0.026312 -0.012881 -0.038623 -0.034573   \n",
      "12  0.049505 -0.016615 -0.015886 -0.022651  0.002378 -0.044247 -0.036776   \n",
      "12  0.049505 -0.016615 -0.015886 -0.022651  0.002378 -0.044247 -0.036776   \n",
      "6  -0.017778  0.006397  0.004692  0.014998  0.000717  0.006040  0.004205   \n",
      "14  0.028986 -0.020255 -0.068282 -0.000701  0.000238  0.003756  0.001481   \n",
      "12  0.049505 -0.016615 -0.015886 -0.022651  0.002378 -0.044247 -0.036776   \n",
      "14  0.028986 -0.020255 -0.068282 -0.000701  0.000238  0.003756  0.001481   \n",
      "13 -0.023585  0.010284 -0.013015  0.025512 -0.001897  0.027006  0.024021   \n",
      "0  -0.087273 -0.005352  0.093071 -0.014436 -0.005405 -0.021302 -0.014550   \n",
      "14  0.028986 -0.020255 -0.068282 -0.000701  0.000238  0.003756  0.001481   \n",
      "0  -0.087273 -0.005352  0.093071 -0.014436 -0.005405 -0.021302 -0.014550   \n",
      "10  0.161111  0.015993 -0.050028 -0.004684  0.000241 -0.024105 -0.008398   \n",
      "0  -0.087273 -0.005352  0.093071 -0.014436 -0.005405 -0.021302 -0.014550   \n",
      "14  0.028986 -0.020255 -0.068282 -0.000701  0.000238  0.003756  0.001481   \n",
      "14  0.028986 -0.020255 -0.068282 -0.000701  0.000238  0.003756  0.001481   \n",
      "11 -0.033493  0.030632 -0.015926  0.030769  0.016188  0.014970  0.022665   \n",
      "11 -0.033493  0.030632 -0.015926  0.030769  0.016188  0.014970  0.022665   \n",
      "11 -0.033493  0.030632 -0.015926  0.030769  0.016188  0.014970  0.022665   \n",
      "3   0.093458  0.006751  0.032139 -0.001527  0.001686  0.007237  0.015608   \n",
      "11 -0.033493  0.030632 -0.015926  0.030769  0.016188  0.014970  0.022665   \n",
      "12  0.049505 -0.016615 -0.015886 -0.022651  0.002378 -0.044247 -0.036776   \n",
      "6  -0.017778  0.006397  0.004692  0.014998  0.000717  0.006040  0.004205   \n",
      "13 -0.023585  0.010284 -0.013015  0.025512 -0.001897  0.027006  0.024021   \n",
      "6  -0.017778  0.006397  0.004692  0.014998  0.000717  0.006040  0.004205   \n",
      "11 -0.033493  0.030632 -0.015926  0.030769  0.016188  0.014970  0.022665   \n",
      "6  -0.017778  0.006397  0.004692  0.014998  0.000717  0.006040  0.004205   \n",
      "0  -0.087273 -0.005352  0.093071 -0.014436 -0.005405 -0.021302 -0.014550   \n",
      "6  -0.017778  0.006397  0.004692  0.014998  0.000717  0.006040  0.004205   \n",
      "10  0.161111  0.015993 -0.050028 -0.004684  0.000241 -0.024105 -0.008398   \n",
      "\n",
      "         WFC        GS       AXP       MCD       DJI       SPY  \n",
      "8  -0.012495  0.007775 -0.004292  0.020142  0.001745  0.001332  \n",
      "3   0.010694  0.010919  0.006601  0.010478  0.003187  0.000990  \n",
      "3   0.010694  0.010919  0.006601  0.010478  0.003187  0.000990  \n",
      "4   0.025354 -0.000120  0.005464  0.006427  0.007171  0.008068  \n",
      "0  -0.019096 -0.024413 -0.027769 -0.006711 -0.014698 -0.012614  \n",
      "11  0.021038  0.034355 -0.121009  0.004752  0.013272  0.020515  \n",
      "3   0.010694  0.010919  0.006601  0.010478  0.003187  0.000990  \n",
      "9  -0.007053 -0.019576  0.006226 -0.014638 -0.015566 -0.012815  \n",
      "0  -0.019096 -0.024413 -0.027769 -0.006711 -0.014698 -0.012614  \n",
      "13  0.012589  0.022036  0.001272  0.010319  0.017752  0.013643  \n",
      "11  0.021038  0.034355 -0.121009  0.004752  0.013272  0.020515  \n",
      "10  0.002924 -0.013659 -0.006188  0.017792  0.007357  0.005602  \n",
      "4   0.025354 -0.000120  0.005464  0.006427  0.007171  0.008068  \n",
      "6   0.018298  0.015095  0.007001  0.013030  0.014092  0.016417  \n",
      "10  0.002924 -0.013659 -0.006188  0.017792  0.007357  0.005602  \n",
      "9  -0.007053 -0.019576  0.006226 -0.014638 -0.015566 -0.012815  \n",
      "12 -0.027744 -0.036593 -0.000727  0.006757 -0.012943 -0.015116  \n",
      "14  0.006423 -0.004727 -0.010347  0.003654 -0.013775 -0.010883  \n",
      "0  -0.019096 -0.024413 -0.027769 -0.006711 -0.014698 -0.012614  \n",
      "10  0.002924 -0.013659 -0.006188  0.017792  0.007357  0.005602  \n",
      "13  0.012589  0.022036  0.001272  0.010319  0.017752  0.013643  \n",
      "4   0.025354 -0.000120  0.005464  0.006427  0.007171  0.008068  \n",
      "12 -0.027744 -0.036593 -0.000727  0.006757 -0.012943 -0.015116  \n",
      "14  0.006423 -0.004727 -0.010347  0.003654 -0.013775 -0.010883  \n",
      "13  0.012589  0.022036  0.001272  0.010319  0.017752  0.013643  \n",
      "6   0.018298  0.015095  0.007001  0.013030  0.014092  0.016417  \n",
      "6   0.018298  0.015095  0.007001  0.013030  0.014092  0.016417  \n",
      "8  -0.012495  0.007775 -0.004292  0.020142  0.001745  0.001332  \n",
      "9  -0.007053 -0.019576  0.006226 -0.014638 -0.015566 -0.012815  \n",
      "12 -0.027744 -0.036593 -0.000727  0.006757 -0.012943 -0.015116  \n",
      "12 -0.027744 -0.036593 -0.000727  0.006757 -0.012943 -0.015116  \n",
      "6   0.018298  0.015095  0.007001  0.013030  0.014092  0.016417  \n",
      "14  0.006423 -0.004727 -0.010347  0.003654 -0.013775 -0.010883  \n",
      "12 -0.027744 -0.036593 -0.000727  0.006757 -0.012943 -0.015116  \n",
      "14  0.006423 -0.004727 -0.010347  0.003654 -0.013775 -0.010883  \n",
      "13  0.012589  0.022036  0.001272  0.010319  0.017752  0.013643  \n",
      "0  -0.019096 -0.024413 -0.027769 -0.006711 -0.014698 -0.012614  \n",
      "14  0.006423 -0.004727 -0.010347  0.003654 -0.013775 -0.010883  \n",
      "0  -0.019096 -0.024413 -0.027769 -0.006711 -0.014698 -0.012614  \n",
      "10  0.002924 -0.013659 -0.006188  0.017792  0.007357  0.005602  \n",
      "0  -0.019096 -0.024413 -0.027769 -0.006711 -0.014698 -0.012614  \n",
      "14  0.006423 -0.004727 -0.010347  0.003654 -0.013775 -0.010883  \n",
      "14  0.006423 -0.004727 -0.010347  0.003654 -0.013775 -0.010883  \n",
      "11  0.021038  0.034355 -0.121009  0.004752  0.013272  0.020515  \n",
      "11  0.021038  0.034355 -0.121009  0.004752  0.013272  0.020515  \n",
      "11  0.021038  0.034355 -0.121009  0.004752  0.013272  0.020515  \n",
      "3   0.010694  0.010919  0.006601  0.010478  0.003187  0.000990  \n",
      "11  0.021038  0.034355 -0.121009  0.004752  0.013272  0.020515  \n",
      "12 -0.027744 -0.036593 -0.000727  0.006757 -0.012943 -0.015116  \n",
      "6   0.018298  0.015095  0.007001  0.013030  0.014092  0.016417  \n",
      "13  0.012589  0.022036  0.001272  0.010319  0.017752  0.013643  \n",
      "6   0.018298  0.015095  0.007001  0.013030  0.014092  0.016417  \n",
      "11  0.021038  0.034355 -0.121009  0.004752  0.013272  0.020515  \n",
      "6   0.018298  0.015095  0.007001  0.013030  0.014092  0.016417  \n",
      "0  -0.019096 -0.024413 -0.027769 -0.006711 -0.014698 -0.012614  \n",
      "6   0.018298  0.015095  0.007001  0.013030  0.014092  0.016417  \n",
      "10  0.002924 -0.013659 -0.006188  0.017792  0.007357  0.005602  \n"
     ]
    },
    {
     "data": {
      "text/plain": "'\\n# Sample n_up columns with replacement \\nsampled_columns = filtered_X_data.sample(n=n_up, replace=True, axis=1)\\n\\n# Select the first row and transpose it to be 1 x n_up\\nX_up = sampled_columns.iloc[0].T\\n\\n# Make it dataframe and transpose to align to original form\\nX_up = pd.DataFrame(X_up).T\\n# Rename the columns\\nX_up.columns = [N + (i + 1) for i in range(X_up.shape[1])]\\n# Update the row labels\\nN = N + X_up.shape[1]\\nX_up = X_up.reset_index(drop=True)\\nprint(X_up.shape)\\n'"
     },
     "execution_count": 27,
     "metadata": {},
     "output_type": "execute_result"
    }
   ],
   "source": [
    "eligible_rows_up = X_data.apply(lambda x: (x.max() >= 0.006), axis=1)\n",
    "filtered_X_data_up = X_data.loc[eligible_rows_up, :]\n",
    "sampled_rows_up = filtered_X_data_up.sample(n=n_up, replace=True, axis=0)\n",
    "print(sampled_rows_up)\n",
    "\n",
    "\"\"\"\n",
    "# Sample n_up columns with replacement \n",
    "sampled_columns = filtered_X_data.sample(n=n_up, replace=True, axis=1)\n",
    "\n",
    "# Select the first row and transpose it to be 1 x n_up\n",
    "X_up = sampled_columns.iloc[0].T\n",
    "\n",
    "# Make it dataframe and transpose to align to original form\n",
    "X_up = pd.DataFrame(X_up).T\n",
    "# Rename the columns\n",
    "X_up.columns = [N + (i + 1) for i in range(X_up.shape[1])]\n",
    "# Update the row labels\n",
    "N = N + X_up.shape[1]\n",
    "X_up = X_up.reset_index(drop=True)\n",
    "print(X_up.shape)\n",
    "\"\"\""
   ],
   "metadata": {
    "collapsed": false,
    "ExecuteTime": {
     "end_time": "2024-03-15T20:09:46.826355Z",
     "start_time": "2024-03-15T20:09:46.813118Z"
    }
   },
   "id": "c18cfded72a41409",
   "execution_count": 27
  },
  {
   "cell_type": "code",
   "outputs": [
    {
     "ename": "ValueError",
     "evalue": "a must be greater than 0 unless no samples are taken",
     "output_type": "error",
     "traceback": [
      "\u001B[0;31m---------------------------------------------------------------------------\u001B[0m",
      "\u001B[0;31mValueError\u001B[0m                                Traceback (most recent call last)",
      "Cell \u001B[0;32mIn[513], line 8\u001B[0m\n\u001B[1;32m      5\u001B[0m filtered_X_data \u001B[38;5;241m=\u001B[39m X_data\u001B[38;5;241m.\u001B[39mloc[:, eligible_columns]\n\u001B[1;32m      7\u001B[0m \u001B[38;5;66;03m# Sample n_stable columns with replacement\u001B[39;00m\n\u001B[0;32m----> 8\u001B[0m sampled_columns \u001B[38;5;241m=\u001B[39m \u001B[43mfiltered_X_data\u001B[49m\u001B[38;5;241;43m.\u001B[39;49m\u001B[43msample\u001B[49m\u001B[43m(\u001B[49m\u001B[43mn\u001B[49m\u001B[38;5;241;43m=\u001B[39;49m\u001B[43mn_stable\u001B[49m\u001B[43m,\u001B[49m\u001B[43m \u001B[49m\u001B[43mreplace\u001B[49m\u001B[38;5;241;43m=\u001B[39;49m\u001B[38;5;28;43;01mTrue\u001B[39;49;00m\u001B[43m,\u001B[49m\u001B[43m \u001B[49m\u001B[43maxis\u001B[49m\u001B[38;5;241;43m=\u001B[39;49m\u001B[38;5;241;43m1\u001B[39;49m\u001B[43m)\u001B[49m\n\u001B[1;32m     10\u001B[0m \u001B[38;5;66;03m# Select the first row and transpose it to be 1 x n_stable\u001B[39;00m\n\u001B[1;32m     11\u001B[0m X_stable \u001B[38;5;241m=\u001B[39m sampled_columns\u001B[38;5;241m.\u001B[39miloc[\u001B[38;5;241m0\u001B[39m]\u001B[38;5;241m.\u001B[39mT\n",
      "File \u001B[0;32m~/Apps/Mara_HW3/.venv/lib/python3.11/site-packages/pandas/core/generic.py:6115\u001B[0m, in \u001B[0;36mNDFrame.sample\u001B[0;34m(self, n, frac, replace, weights, random_state, axis, ignore_index)\u001B[0m\n\u001B[1;32m   6112\u001B[0m \u001B[38;5;28;01mif\u001B[39;00m weights \u001B[38;5;129;01mis\u001B[39;00m \u001B[38;5;129;01mnot\u001B[39;00m \u001B[38;5;28;01mNone\u001B[39;00m:\n\u001B[1;32m   6113\u001B[0m     weights \u001B[38;5;241m=\u001B[39m sample\u001B[38;5;241m.\u001B[39mpreprocess_weights(\u001B[38;5;28mself\u001B[39m, weights, axis)\n\u001B[0;32m-> 6115\u001B[0m sampled_indices \u001B[38;5;241m=\u001B[39m \u001B[43msample\u001B[49m\u001B[38;5;241;43m.\u001B[39;49m\u001B[43msample\u001B[49m\u001B[43m(\u001B[49m\u001B[43mobj_len\u001B[49m\u001B[43m,\u001B[49m\u001B[43m \u001B[49m\u001B[43msize\u001B[49m\u001B[43m,\u001B[49m\u001B[43m \u001B[49m\u001B[43mreplace\u001B[49m\u001B[43m,\u001B[49m\u001B[43m \u001B[49m\u001B[43mweights\u001B[49m\u001B[43m,\u001B[49m\u001B[43m \u001B[49m\u001B[43mrs\u001B[49m\u001B[43m)\u001B[49m\n\u001B[1;32m   6116\u001B[0m result \u001B[38;5;241m=\u001B[39m \u001B[38;5;28mself\u001B[39m\u001B[38;5;241m.\u001B[39mtake(sampled_indices, axis\u001B[38;5;241m=\u001B[39maxis)\n\u001B[1;32m   6118\u001B[0m \u001B[38;5;28;01mif\u001B[39;00m ignore_index:\n",
      "File \u001B[0;32m~/Apps/Mara_HW3/.venv/lib/python3.11/site-packages/pandas/core/sample.py:152\u001B[0m, in \u001B[0;36msample\u001B[0;34m(obj_len, size, replace, weights, random_state)\u001B[0m\n\u001B[1;32m    149\u001B[0m     \u001B[38;5;28;01melse\u001B[39;00m:\n\u001B[1;32m    150\u001B[0m         \u001B[38;5;28;01mraise\u001B[39;00m \u001B[38;5;167;01mValueError\u001B[39;00m(\u001B[38;5;124m\"\u001B[39m\u001B[38;5;124mInvalid weights: weights sum to zero\u001B[39m\u001B[38;5;124m\"\u001B[39m)\n\u001B[0;32m--> 152\u001B[0m \u001B[38;5;28;01mreturn\u001B[39;00m random_state\u001B[38;5;241m.\u001B[39mchoice(obj_len, size\u001B[38;5;241m=\u001B[39msize, replace\u001B[38;5;241m=\u001B[39mreplace, p\u001B[38;5;241m=\u001B[39mweights)\u001B[38;5;241m.\u001B[39mastype(\n\u001B[1;32m    153\u001B[0m     np\u001B[38;5;241m.\u001B[39mintp, copy\u001B[38;5;241m=\u001B[39m\u001B[38;5;28;01mFalse\u001B[39;00m\n\u001B[1;32m    154\u001B[0m )\n",
      "File \u001B[0;32mnumpy/random/mtrand.pyx:945\u001B[0m, in \u001B[0;36mnumpy.random.mtrand.RandomState.choice\u001B[0;34m()\u001B[0m\n",
      "\u001B[0;31mValueError\u001B[0m: a must be greater than 0 unless no samples are taken"
     ]
    }
   ],
   "source": [
    "\n",
    "# Identify columns where values are between -0.006 and 0.006\n",
    "eligible_columns = X_data.apply(lambda col: -0.006 < col.max() < 0.006)\n",
    "\n",
    "# Filter those columns\n",
    "filtered_X_data = X_data.loc[:, eligible_columns]\n",
    "\n",
    "# Sample n_stable columns with replacement\n",
    "sampled_columns = filtered_X_data.sample(n=n_stable, replace=True, axis=1)\n",
    "\n",
    "# Select the first row and transpose it to be 1 x n_stable\n",
    "X_stable = sampled_columns.iloc[0].T\n",
    "\n",
    "# Make it dataframe and transpose to align to original form\n",
    "X_stable = pd.DataFrame(X_stable).T\n",
    "\n",
    "X_stable.columns = [N + (i + 1) for i in range(X_stable.shape[1])]\n",
    "print(X_stable.shape)"
   ],
   "metadata": {
    "collapsed": false,
    "ExecuteTime": {
     "end_time": "2024-03-15T19:30:21.110394Z",
     "start_time": "2024-03-15T19:30:21.071849Z"
    }
   },
   "id": "588d80f9fde57e8",
   "execution_count": 513
  },
  {
   "cell_type": "code",
   "outputs": [
    {
     "name": "stdout",
     "output_type": "stream",
     "text": [
      "(15, 145)\n"
     ]
    }
   ],
   "source": [
    "X_extended = pd.concat([X_data, X_up, X_stable], axis=1)\n",
    "print(X_extended.shape)\n"
   ],
   "metadata": {
    "collapsed": false,
    "ExecuteTime": {
     "end_time": "2024-03-15T19:30:23.581772Z",
     "start_time": "2024-03-15T19:30:23.575510Z"
    }
   },
   "id": "cf54850a29ae9b64",
   "execution_count": 514
  },
  {
   "cell_type": "code",
   "outputs": [
    {
     "name": "stdout",
     "output_type": "stream",
     "text": [
      "145\n",
      "68\n",
      "88\n",
      "144\n",
      "300\n",
      "Altered Stable Ratio: 0.0\n",
      "Altered Up Ratio: 0.0\n",
      "Altered Down Ratio: 0.0\n"
     ]
    }
   ],
   "source": [
    "M = X_extended.shape[1]\n",
    "print(M)\n",
    "Z_extended = make_zt(X_extended)\n",
    "\n",
    "# Slide 8\n",
    "CL0 = Z_data.apply(lambda x: (x == 0).sum()).sum()\n",
    "CL1 = Z_data.apply(lambda x: (x == 1).sum()).sum()\n",
    "CL2 = Z_data.apply(lambda x: (x == 2).sum()).sum()\n",
    "\n",
    "print(CL0)\n",
    "print(CL1)\n",
    "print(CL2)\n",
    "\n",
    "M = CL0 + CL1 + CL2\n",
    "\n",
    "\n",
    "print(N)\n",
    "print(f\"Altered Stable Ratio: {ratio0}\\nAltered Up Ratio: {ratio1}\\nAltered Down Ratio: {ratio2}\")\n"
   ],
   "metadata": {
    "collapsed": false,
    "ExecuteTime": {
     "end_time": "2024-03-15T19:30:24.384819Z",
     "start_time": "2024-03-15T19:30:24.366760Z"
    }
   },
   "id": "575713f2adc96848",
   "execution_count": 515
  },
  {
   "cell_type": "code",
   "outputs": [
    {
     "name": "stdout",
     "output_type": "stream",
     "text": [
      "280\n"
     ]
    }
   ],
   "source": [
    "\"\"\"\n",
    "X_train = X_extended.drop(X_extended.columns[1], axis=1)\n",
    "Z_train = Z_extended.drop(Z_extended.columns[-1], axis=1)\n",
    "\"\"\"\n",
    "X_train = X_data.iloc[:-1, :]\n",
    "Y_train = target.iloc[1:]\n",
    "M = X_train.size\n",
    "print(M)\n"
   ],
   "metadata": {
    "collapsed": false,
    "ExecuteTime": {
     "end_time": "2024-03-15T20:19:08.532327Z",
     "start_time": "2024-03-15T20:19:08.529485Z"
    }
   },
   "id": "bba30d30e47a96e0",
   "execution_count": 36
  },
  {
   "cell_type": "code",
   "outputs": [
    {
     "name": "stdout",
     "output_type": "stream",
     "text": [
      "Training took 0.1153116226196289 seconds.\n",
      "OOB : 0.5\n"
     ]
    }
   ],
   "source": [
    "from sklearn.ensemble import RandomForestClassifier\n",
    "import time\n",
    "# Create our random forest classifier\n",
    "clf = RandomForestClassifier(n_estimators=100, random_state=42, max_features=int((2*M)/3), oob_score=True)\n",
    "start_time = time.time()\n",
    "clf.fit(X_train, Y_train)\n",
    "end_time = time.time()\n",
    "\n",
    "oob_score = clf.oob_score_\n",
    "elapsed_time = end_time - start_time\n",
    "\n",
    "print(f\"Training took {elapsed_time} seconds.\")\n",
    "\n",
    "print(f\"OOB : {oob_score}\")\n",
    "z=clf.predict(X_train)"
   ],
   "metadata": {
    "collapsed": false,
    "ExecuteTime": {
     "end_time": "2024-03-15T20:27:49.203170Z",
     "start_time": "2024-03-15T20:27:49.081953Z"
    }
   },
   "id": "cc8974f91787986e",
   "execution_count": 52
  },
  {
   "cell_type": "code",
   "outputs": [],
   "source": [],
   "metadata": {
    "collapsed": false,
    "ExecuteTime": {
     "end_time": "2024-03-15T20:13:41.056833Z",
     "start_time": "2024-03-15T20:13:41.055071Z"
    }
   },
   "id": "90805b706e48d922",
   "execution_count": 30
  },
  {
   "cell_type": "code",
   "outputs": [],
   "source": [
    "import time\n",
    "\n",
    "def TrainRandomForest(num_tree, num_select_features):\n",
    "    from sklearn.ensemble import RandomForestRegressor, RandomForestClassifier\n",
    "    # Create our random forest classifier\n",
    "    clf = RandomForestClassifier(n_estimators=num_tree, random_state=42, oob_score=True,\n",
    "                                 bootstrap=True, max_samples=0.87,\n",
    "                                 max_features=num_select_features)\n",
    "    start_time = time.time()\n",
    "    # Drop the first X and last Z so that we have a list of rates of return for 299 days correlated with\n",
    "    # the 299 up, down, stable labels corresponding to the next day's return\n",
    "    clf.fit(X_train, Y_train)\n",
    "    end_time = time.time()\n",
    "    oob_score = clf.oob_score_\n",
    "    elapsed_time = end_time - start_time\n",
    "    return clf, oob_score, elapsed_time\n"
   ],
   "metadata": {
    "collapsed": false,
    "ExecuteTime": {
     "end_time": "2024-03-15T20:19:24.381086Z",
     "start_time": "2024-03-15T20:19:24.378147Z"
    }
   },
   "id": "a09cabaaf5983239",
   "execution_count": 38
  },
  {
   "cell_type": "code",
   "outputs": [
    {
     "name": "stdout",
     "output_type": "stream",
     "text": [
      "Training time was 0.10720396041870117 seconds\n",
      "OOB Score: 0.42857142857142855\n",
      "    0\n",
      "0   2\n",
      "1   2\n",
      "2   0\n",
      "3   1\n",
      "4   2\n",
      "5   1\n",
      "6   2\n",
      "7   0\n",
      "8   2\n",
      "9   0\n",
      "10  1\n",
      "11  2\n",
      "12  1\n",
      "13  2\n"
     ]
    }
   ],
   "source": [
    "clf, oob_score, elapsed_time = TrainRandomForest(100, 32)\n",
    "print(f\"Training time was {elapsed_time} seconds\")\n",
    "predicted_z = clf.predict(X_train)\n",
    "predicted_z = pd.DataFrame(predicted_z)\n",
    "print(f\"OOB Score: {oob_score}\")\n",
    "print(predicted_z)"
   ],
   "metadata": {
    "collapsed": false,
    "ExecuteTime": {
     "end_time": "2024-03-15T20:20:52.697337Z",
     "start_time": "2024-03-15T20:20:52.583812Z"
    }
   },
   "id": "f86fa9712e9ae1ad",
   "execution_count": 43
  },
  {
   "cell_type": "code",
   "outputs": [
    {
     "name": "stdout",
     "output_type": "stream",
     "text": [
      "[[3 0 0]\n",
      " [0 4 0]\n",
      " [0 0 7]]\n"
     ]
    }
   ],
   "source": [
    "from sklearn.metrics import confusion_matrix\n",
    "cmatrix = confusion_matrix(Y_train, predicted_z, labels=[0, 1, 2])\n",
    "print(cmatrix)\n"
   ],
   "metadata": {
    "collapsed": false,
    "ExecuteTime": {
     "end_time": "2024-03-15T20:21:28.883449Z",
     "start_time": "2024-03-15T20:21:28.874282Z"
    }
   },
   "id": "785b677cab9826e6",
   "execution_count": 44
  },
  {
   "cell_type": "code",
   "outputs": [
    {
     "name": "stdout",
     "output_type": "stream",
     "text": [
      "OOB\n",
      " SF         18        36        72        140       200\n",
      "Tree                                                  \n",
      "100   0.428571  0.428571  0.428571  0.428571  0.428571\n",
      "200   0.428571  0.428571  0.428571  0.428571  0.428571\n",
      "300   0.500000  0.500000  0.500000  0.500000  0.500000\n",
      "400   0.500000  0.428571  0.428571  0.428571  0.428571\n",
      "500   0.500000  0.500000  0.500000  0.500000  0.500000\n",
      "Computation times (s)\n",
      " SF         18        36        72        140       200\n",
      "Tree                                                  \n",
      "100   0.117942  0.087714  0.084721  0.084286  0.108509\n",
      "200   0.212884  0.182407  0.172620  0.173774  0.173813\n",
      "300   0.254383  0.278475  0.251826  0.252055  0.248673\n",
      "400   0.329934  0.352914  0.333705  0.333898  0.342823\n",
      "500   0.422747  0.424908  0.422900  0.421166  0.421869\n"
     ]
    }
   ],
   "source": [
    "trees = [100,200,300,400,500]\n",
    "selected_features = [18,36,72,140,200]\n",
    "OOB_accuracies = []\n",
    "computation_times = []\n",
    "data = []\n",
    "for tree in trees:\n",
    "    for SF in selected_features:\n",
    "        clf, oob_score, elapsed_time = TrainRandomForest(tree, SF)\n",
    "        data.append((tree, SF, oob_score, elapsed_time))\n",
    "\n",
    "# print(data)\n",
    "df = pd.DataFrame(data, columns=['Tree', 'SF', 'oob_score', 'computation_time'])\n",
    "df_pivot_oob = df.pivot(index='Tree', columns='SF', values='oob_score')\n",
    "df_pivot_time = df.pivot(index='Tree', columns='SF', values='computation_time')\n",
    "\n",
    "print(f\"OOB\\n {df_pivot_oob}\")\n",
    "print(f\"Computation times (s)\\n {df_pivot_time}\")\n",
    "# Best TR* = 100; Best SF* = 36"
   ],
   "metadata": {
    "collapsed": false,
    "ExecuteTime": {
     "end_time": "2024-03-15T20:22:30.260342Z",
     "start_time": "2024-03-15T20:22:23.749284Z"
    }
   },
   "id": "fdae10e5703622f3",
   "execution_count": 45
  },
  {
   "cell_type": "code",
   "outputs": [
    {
     "name": "stdout",
     "output_type": "stream",
     "text": [
      "0.5\n",
      "Feature ranking:\n",
      "20\n",
      "[0. 0. 0. 0. 0. 0. 0. 0. 0. 0. 0. 0. 0. 0. 0. 0. 0. 0. 0. 0.]\n"
     ]
    }
   ],
   "source": [
    "RF_prime = RandomForestClassifier(n_estimators=500, min_samples_split=18, min_impurity_decrease=0, max_leaf_nodes=12,max_features=16, criterion='gini', n_jobs=-1, oob_score=True)\n",
    "\n",
    "RF_prime.fit(X_train, Y_train)\n",
    "\n",
    "oob_prime = RF_prime.oob_score_\n",
    "importances = RF_prime.feature_importances_\n",
    "features = RF_prime.n_features_in_\n",
    "\n",
    "# Print the feature ranking\n",
    "print(oob_prime)\n",
    "\n",
    "print(\"Feature ranking:\")\n",
    "print(features)\n",
    "print(importances)\n"
   ],
   "metadata": {
    "collapsed": false,
    "ExecuteTime": {
     "end_time": "2024-03-15T20:23:49.833674Z",
     "start_time": "2024-03-15T20:23:49.148032Z"
    }
   },
   "id": "37b8aff8148615d1",
   "execution_count": 50
  },
  {
   "cell_type": "code",
   "outputs": [
    {
     "name": "stdout",
     "output_type": "stream",
     "text": [
      "Feature ranking:\n"
     ]
    },
    {
     "data": {
      "text/plain": "'\\n# Get the most important features \\'k\\'\\nfor i in range(k):\\n    print(f\"{X_data.iloc[indices[i]]} ({importances[indices[i]]})\")\\n'"
     },
     "execution_count": 75,
     "metadata": {},
     "output_type": "execute_result"
    }
   ],
   "source": [
    "import numpy as np\n",
    "\n",
    "# Assuming 'rfModel' is your trained Random Forest Model\n",
    "\n",
    "k = 10  # you can change this value depending on how many top features you want\n",
    "\n",
    "\"\"\"\n",
    "# Get the most important features 'k'\n",
    "for i in range(k):\n",
    "    print(f\"{X_data.iloc[indices[i]]} ({importances[indices[i]]})\")\n",
    "\"\"\""
   ],
   "metadata": {
    "collapsed": false,
    "ExecuteTime": {
     "end_time": "2024-03-14T00:13:52.458283Z",
     "start_time": "2024-03-14T00:13:52.428736Z"
    }
   },
   "id": "539c7faad5d03569",
   "execution_count": 75
  },
  {
   "cell_type": "code",
   "outputs": [],
   "source": [],
   "metadata": {
    "collapsed": false
   },
   "id": "954a98750a89901b"
  }
 ],
 "metadata": {
  "kernelspec": {
   "display_name": "Python 3",
   "language": "python",
   "name": "python3"
  },
  "language_info": {
   "codemirror_mode": {
    "name": "ipython",
    "version": 2
   },
   "file_extension": ".py",
   "mimetype": "text/x-python",
   "name": "python",
   "nbconvert_exporter": "python",
   "pygments_lexer": "ipython2",
   "version": "2.7.6"
  }
 },
 "nbformat": 4,
 "nbformat_minor": 5
}
