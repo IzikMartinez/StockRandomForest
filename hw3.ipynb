{
 "cells": [
  {
   "cell_type": "code",
   "execution_count": 1,
   "id": "initial_id",
   "metadata": {
    "collapsed": true,
    "ExecuteTime": {
     "end_time": "2024-03-15T19:34:37.690809Z",
     "start_time": "2024-03-15T19:34:36.918922Z"
    }
   },
   "outputs": [],
   "source": [
    "import yfinance as yf\n",
    "\n",
    "\"\"\"\n",
    "Closing Price\n",
    "Represents Sj(t)\n",
    "\"\"\"\n",
    "def closing_price(stockDF, T):\n",
    "    return stockDF.loc[str(T), 'Close']\n",
    "\n",
    "\n",
    "\"\"\"\n",
    "Daily Rate of Return.\n",
    "Represents Yj(t)\n",
    "\"\"\"\n",
    "def daily_rate_of_return(stockDF, T):\n",
    "    today = closing_price(stockDF, T)\n",
    "    yesterday = closing_price(stockDF, T - 1)\n",
    "    return (today - yesterday) / yesterday\n",
    "\n",
    "\n",
    "\"\"\"\n",
    "Vj\n",
    "Creates a list of data corresponding to two weeks of trading days before the day T\n",
    "\"\"\"\n",
    "def vj(stockDF, T):\n",
    "    rates_of_return = []\n",
    "    for i in range(0, 15):\n",
    "        rates_of_return.append(daily_rate_of_return(stockDF, T - i))\n",
    "    # Invert the elements in rates_of_return\n",
    "    rates_of_return = rates_of_return[:: -1]\n",
    "    return rates_of_return\n",
    "\n",
    "\n",
    "\"\"\"\n",
    "True Class\n",
    "returns 0, 1, 2 based on the value of the input\n",
    "Corresponds to STABLE, UP and DOWN\n",
    "\"\"\"\n",
    "def true_class(targ):\n",
    "    # if UP\n",
    "    if targ >= 0.006:\n",
    "        return 1\n",
    "    # if DOWN\n",
    "    elif targ <= -0.006:\n",
    "        return 2\n",
    "    # If STABLE\n",
    "    else:\n",
    "        return 0\n",
    "\n",
    "\n",
    "### TARG is defined as tomorrows Yj(T)\n",
    "def targ(stockDF, T):\n",
    "    return daily_rate_of_return(stockDF, T+1)\n",
    "\n",
    "\n",
    "def make_zt(X):\n",
    "    return X.map(true_class)\n",
    "\n",
    "def make_xt(stocks, T):\n",
    "    \"\"\"\n",
    "    Xt Represents an array containing all our line vector stock data \"Vj(t)\"\n",
    "    \"\"\"\n",
    "    xt_list = []\n",
    "    ticker_list = []\n",
    "    for stock, ticker in stocks:\n",
    "        xt_list.append(vj(stock, T))\n",
    "        ticker_list.append(ticker)\n",
    "    return xt_list, ticker_list\n"
   ]
  },
  {
   "cell_type": "code",
   "outputs": [],
   "source": [
    "################### Slide 2 #########################\n",
    "tickers = [\"AAPL\", \"MSFT\", \"TSLA\", \"META\", \"GOOGL\", \"AMZN\", \"NVDA\", \"AMD\", \"DIS\", \"NFLX\",\n",
    "           \"JPM\", \"KO\", \"BAC\", \"C\", \"WFC\", \"GS\", \"AXP\", \"MCD\", \"DJI\", \"SPY\"]\n",
    "\n",
    "stocks = []\n",
    "\n",
    "for ticker in tickers:\n",
    "    stocks.append((yf.Ticker(ticker).history(start='2016-01-01', end='2022-12-31'), ticker))\n",
    "\n",
    "for stock in stocks:\n",
    "    new_index = [str(i + 1) for i in range(len(stock[0]))]\n",
    "    stock[0].index = new_index\n"
   ],
   "metadata": {
    "collapsed": false
   },
   "id": "da2ddcd56aa73da"
  },
  {
   "cell_type": "code",
   "outputs": [],
   "source": [
    "################### Slide 4 #########################\n",
    "Y = []\n",
    "for stock, ticker in stocks:\n",
    "    for day in range(2, len(stock) - 1):\n",
    "        Y.append((ticker, day, daily_rate_of_return(stock, day)))"
   ],
   "metadata": {
    "collapsed": false
   },
   "id": "1d2627cb66a8f463"
  },
  {
   "cell_type": "code",
   "outputs": [],
   "source": [
    "################### Slide 4 cont #########################\n",
    "\n",
    "import matplotlib.cm as cm\n",
    "\n",
    "colors = cm.get_cmap('rainbow', 3)  # using 'rainbow' colormap here, you can choose any\n",
    "unique_tickers = list(set([x[0] for x in Y]))  # gets unique tickers\n",
    "\n",
    "\n",
    "# Chunking function\n",
    "def chunks(lst, n):\n",
    "    \"\"\"Yield successive n-sized chunks from lst.\"\"\"\n",
    "    for i in range(0, len(lst), n):\n",
    "        yield lst[i:i + n]\n",
    "\n",
    "\n",
    "# Dividing tickers into chunks of 5\n",
    "chunks_of_tickers = list(chunks(unique_tickers, 3))\n",
    "\"\"\"\n",
    "# Now plotting\n",
    "for chunk in chunks_of_tickers:\n",
    "    for i, ticker in enumerate(chunk):\n",
    "        ticker_data = [x for x in Y if x[0] == ticker]  # filter out data for this ticker only\n",
    "        days = [x[1] for x in ticker_data]  # x-axis data\n",
    "        rates_of_return = [x[2] for x in ticker_data]  # y-axis data\n",
    "        plt.plot(days, rates_of_return, color=colors(i), label=ticker)\n",
    "    plt.xlabel('Day')\n",
    "    plt.ylabel('Rate of Return')\n",
    "    plt.title('Rate of Return Over Days for Each Ticker')\n",
    "    plt.legend()  # add a legend\n",
    "    plt.show()\n",
    "\"\"\"\n",
    "\n"
   ],
   "metadata": {
    "collapsed": false
   },
   "id": "ecd1fd607f9ab2a"
  },
  {
   "cell_type": "code",
   "outputs": [
    {
     "name": "stdout",
     "output_type": "stream",
     "text": [
      "        AAPL      MSFT      TSLA      META     GOOGL      AMZN      NVDA  \\\n",
      "0  -0.001067  0.014839  0.004320  0.008420  0.009225  0.036780  0.013228   \n",
      "1   0.016446 -0.016400 -0.039206 -0.009615 -0.008357 -0.018323 -0.011944   \n",
      "2  -0.010402  0.001808 -0.042011  0.005365  0.004136 -0.000626 -0.022772   \n",
      "3  -0.004059  0.001404 -0.049560 -0.002118  0.004695 -0.017603  0.006042   \n",
      "4  -0.005577  0.009011  0.016073  0.014260  0.014649  0.022546  0.010295   \n",
      "5   0.000755 -0.006351 -0.027963 -0.002092  0.005447  0.008606 -0.001415   \n",
      "6   0.006789  0.018974 -0.001101  0.010567  0.014058  0.034307  0.019274   \n",
      "7  -0.009741  0.000588  0.001294 -0.008133 -0.011942  0.014451  0.002781   \n",
      "8  -0.023457  0.009011 -0.008040  0.006359 -0.003395  0.006590 -0.013588   \n",
      "9   0.001993 -0.008347  0.001592 -0.003908 -0.004450 -0.011157  0.152094   \n",
      "10  0.037119  0.014683  0.003275 -0.009515  0.007547  0.001042  0.029527   \n",
      "11 -0.004154 -0.018652 -0.017428 -0.011123 -0.013844 -0.021656  0.002133   \n",
      "12  0.011445  0.005940  0.031809  0.002556  0.002208  0.003136  0.025544   \n",
      "13 -0.003807 -0.009644  0.019131 -0.007140 -0.008964  0.001534  0.004382   \n",
      "14  0.010828  0.005962  0.023558  0.004623  0.008947  0.006127  0.017911   \n",
      "\n",
      "         AMD       DIS      NFLX       JPM        KO       BAC         C  \\\n",
      "0   0.053521  0.010653  0.034211  0.009335  0.004018  0.014423  0.008643   \n",
      "1  -0.037433 -0.005558 -0.016862 -0.019282 -0.003113 -0.027759 -0.023779   \n",
      "2   0.000000 -0.001060 -0.008193 -0.015825  0.003122 -0.016017 -0.019969   \n",
      "3   0.016667  0.012154 -0.015640 -0.005360  0.001779 -0.005662 -0.009628   \n",
      "4   0.005464  0.005813  0.016448  0.005879  0.005770  0.004270  0.004070   \n",
      "5  -0.008152 -0.001895 -0.003302 -0.006331 -0.001765 -0.008505 -0.011710   \n",
      "6  -0.002740  0.011961  0.025955  0.013560  0.011273  0.022159  0.021645   \n",
      "7   0.002747 -0.040432 -0.030897 -0.003707 -0.006338 -0.006993 -0.008252   \n",
      "8  -0.016438 -0.005670 -0.025328 -0.000647  0.008139 -0.004225 -0.010569   \n",
      "9   0.022284 -0.011700  0.001596 -0.009228 -0.010473 -0.018387 -0.020227   \n",
      "10  0.032698 -0.001592  0.014110  0.007516  0.005954  0.003602  0.000928   \n",
      "11  0.000000 -0.004185 -0.005498  0.000000 -0.019071  0.005743  0.012746   \n",
      "12  0.013193 -0.009406  0.021099  0.038599 -0.006034  0.048537  0.049657   \n",
      "13 -0.018229 -0.005960 -0.010497 -0.010150 -0.003597 -0.010892 -0.017658   \n",
      "14  0.026525  0.013922  0.032831  0.001893 -0.008348 -0.000688 -0.003551   \n",
      "\n",
      "         WFC        GS       AXP       MCD       DJI       SPY  \n",
      "0   0.012205  0.012613  0.003821  0.013519  0.006617  0.007949  \n",
      "1  -0.011663 -0.018293 -0.012637  0.001560 -0.007842 -0.008703  \n",
      "2  -0.013704 -0.018818 -0.009098  0.007243 -0.005611 -0.005578  \n",
      "3   0.000408 -0.003373 -0.005291 -0.000386  0.000532 -0.000195  \n",
      "4   0.001226 -0.004263  0.009230  0.010056  0.004524  0.003659  \n",
      "5  -0.002856 -0.008436 -0.008216  0.001915 -0.001956  0.000826  \n",
      "6   0.010638  0.024824  0.013442  0.005885  0.012561  0.012434  \n",
      "7  -0.006478 -0.012390 -0.003856 -0.018693 -0.012115 -0.009355  \n",
      "8   0.002445 -0.008468 -0.003870  0.007589  0.000531  0.000291  \n",
      "9  -0.019512 -0.017271 -0.003419 -0.009914 -0.010451 -0.008714  \n",
      "10  0.000622  0.000258 -0.000780  0.006287  0.010003  0.009865  \n",
      "11 -0.013466 -0.004698 -0.020446 -0.015041 -0.010203 -0.009334  \n",
      "12  0.021630  0.034206  0.012110 -0.011591 -0.000194  0.000293  \n",
      "13 -0.005550 -0.032762 -0.012280 -0.007289 -0.005203 -0.003465  \n",
      "14  0.007648 -0.001229  0.018808 -0.021790  0.003757  0.006317  \n",
      "    AAPL  MSFT  TSLA  META  GOOGL  AMZN  NVDA  AMD  DIS  NFLX  JPM  KO  BAC  \\\n",
      "0      0     1     0     1      1     1     1    1    1     1    1   0    1   \n",
      "1      1     2     2     2      2     2     2    2    0     2    2   0    2   \n",
      "2      2     0     2     0      0     0     2    0    0     2    2   0    2   \n",
      "3      0     0     2     0      0     2     1    1    1     2    0   0    0   \n",
      "4      0     1     1     1      1     1     1    0    0     1    0   0    0   \n",
      "5      0     2     2     0      0     1     0    2    0     0    2   0    2   \n",
      "6      1     1     0     1      1     1     1    0    1     1    1   1    1   \n",
      "7      2     0     0     2      2     1     0    0    2     2    0   2    2   \n",
      "8      2     1     2     1      0     1     2    2    0     2    0   1    0   \n",
      "9      0     2     0     0      0     2     1    1    2     0    2   2    2   \n",
      "10     1     1     0     2      1     0     1    1    0     1    1   0    0   \n",
      "11     0     2     2     2      2     2     0    0    0     0    0   2    0   \n",
      "12     1     0     1     0      0     0     1    1    2     1    1   2    1   \n",
      "13     0     2     1     2      2     0     0    2    0     2    2   0    2   \n",
      "14     1     0     1     0      1     1     1    1    1     1    0   2    0   \n",
      "\n",
      "    C  WFC  GS  AXP  MCD  DJI  SPY  \n",
      "0   1    1   1    0    1    1    1  \n",
      "1   2    2   2    2    0    2    2  \n",
      "2   2    2   2    2    1    0    0  \n",
      "3   2    0   0    0    0    0    0  \n",
      "4   0    0   0    1    1    0    0  \n",
      "5   2    0   2    2    0    0    0  \n",
      "6   1    1   1    1    0    1    1  \n",
      "7   2    2   2    0    2    2    2  \n",
      "8   2    0   2    0    1    0    0  \n",
      "9   2    2   2    0    2    2    2  \n",
      "10  0    0   0    0    1    1    1  \n",
      "11  1    2   0    2    2    2    2  \n",
      "12  1    1   1    1    2    0    0  \n",
      "13  2    0   2    2    2    0    0  \n",
      "14  0    1   0    1    2    0    1  \n"
     ]
    }
   ],
   "source": [
    "################### Slide 5 #########################\n",
    "Xt, tickers = make_xt(stocks, 97)\n",
    "\n",
    "# extract vj values and convert to dataframe\n",
    "\n",
    "import numpy as np\n",
    "import pandas as pd\n",
    "\n",
    "# reshape it into 1D and convert into a DataFrame\n",
    "X_data = pd.DataFrame(Xt, index=tickers).T\n",
    "\n",
    "print(X_data)"
   ],
   "metadata": {
    "collapsed": false,
    "ExecuteTime": {
     "end_time": "2024-03-15T20:37:53.195035Z",
     "start_time": "2024-03-15T20:37:53.181972Z"
    }
   },
   "id": "bd6c79a74661b202",
   "execution_count": 65
  },
  {
   "cell_type": "code",
   "outputs": [],
   "source": [
    "################### Slide 6 #########################\n",
    "Z_data = make_zt(X_data)\n",
    "print(Z_data)\n"
   ],
   "metadata": {
    "collapsed": false
   },
   "id": "4ca6ec247e62c600"
  },
  {
   "cell_type": "code",
   "outputs": [],
   "source": [
    "################### Slide 7 #########################\n",
    "# Slide 7 simply describes the goal of the next few slides\n"
   ],
   "metadata": {
    "collapsed": false
   },
   "id": "670efdc3104b6023"
  },
  {
   "cell_type": "code",
   "outputs": [
    {
     "name": "stdout",
     "output_type": "stream",
     "text": [
      "300\n",
      "112\n",
      "90\n",
      "98\n",
      "Initial Stable Ratio: 0.37333333333333335\n",
      "Initial Up Ratio: 0.3\n",
      "Initial Down Ratio: 0.32666666666666666\n"
     ]
    }
   ],
   "source": [
    "################### Slide 8 #########################\n",
    "\n",
    "CL0 = Z_data.apply(lambda x: (x == 0))\n",
    "CL1 = Z_data.apply(lambda x: (x == 1))\n",
    "CL2 = Z_data.apply(lambda x: (x == 2))\n",
    "\n",
    "s0 = CL0.sum().sum()\n",
    "s1 = CL1.sum().sum()\n",
    "s2 = CL2.sum().sum()\n",
    "\n",
    "N = s0 + s1 + s2\n",
    "\n",
    "print(N)\n",
    "print(s0)\n",
    "print(s1)\n",
    "print(s2)\n",
    "\n",
    "R0 = s0/N\n",
    "R1 = s1/N\n",
    "R2 = s2/N\n",
    "print(f\"Initial Stable Ratio: {R0}\\nInitial Up Ratio: {R1}\\nInitial Down Ratio: {R2}\")\n",
    "\n",
    "\"\"\"\n",
    "Due to the data set already containing a fairly balanced set of classes, there is no need to clone the data in X_data\n",
    "\"\"\"\n"
   ],
   "metadata": {
    "collapsed": false,
    "ExecuteTime": {
     "end_time": "2024-03-15T20:37:56.646273Z",
     "start_time": "2024-03-15T20:37:56.635425Z"
    }
   },
   "id": "227ab78f9fd115a2",
   "execution_count": 67
  },
  {
   "cell_type": "code",
   "outputs": [],
   "source": [],
   "metadata": {
    "collapsed": false
   },
   "id": "d2010a0e8fb2118c"
  },
  {
   "cell_type": "code",
   "outputs": [
    {
     "name": "stdout",
     "output_type": "stream",
     "text": [
      "20\n"
     ]
    }
   ],
   "source": [
    "################### Slide 9 part 1 #########################\n",
    "# Take all but the last day of trading in X_train\n",
    "X_train = X_data.iloc[:-1, :]\n",
    "# Select stock 20 as our target for Random Forest Classifier\n",
    "target = Z_data.iloc[:,19]\n",
    "# Take all but the first days rate of return from Y_Train\n",
    "Y_train = target.iloc[1:]\n",
    "M = X_train.shape[1]\n",
    "print(M)\n",
    "\n",
    "# X_train and Y_train are now dataframes whose elements are offset by one day, producing a training set of a stock's daily value and tomorrow's price action"
   ],
   "metadata": {
    "collapsed": false,
    "ExecuteTime": {
     "end_time": "2024-03-15T23:54:12.745648Z",
     "start_time": "2024-03-15T23:54:12.741818Z"
    }
   },
   "id": "bba30d30e47a96e0",
   "execution_count": 161
  },
  {
   "cell_type": "code",
   "outputs": [
    {
     "name": "stdout",
     "output_type": "stream",
     "text": [
      "Training took 0.08609724044799805 seconds.\n",
      "OOB : 0.21428571428571427\n"
     ]
    }
   ],
   "source": [
    "################### Slide 9 part 2 #########################\n",
    "# 2M/3 proves that M must be a number less than 100, as max_samples must be a number smaller than n_estimators\n",
    "# I.E., M cannot be a number in the range 300, for a random forest with 100 trees\n",
    "\n",
    "from sklearn.ensemble import RandomForestClassifier\n",
    "import time\n",
    "# Create our random forest classifier\n",
    "clf = RandomForestClassifier(n_estimators=100, random_state=42, max_features=18, max_samples=int((2*M)/3), oob_score=True)\n",
    "start_time = time.time()\n",
    "clf.fit(X_train, Y_train)\n",
    "end_time = time.time()\n",
    "\n",
    "oob_score = clf.oob_score_\n",
    "elapsed_time = end_time - start_time\n",
    "\n",
    "print(f\"Training took {elapsed_time} seconds.\")\n",
    "\n",
    "print(f\"OOB : {oob_score}\")\n",
    "z=clf.predict(X_train)"
   ],
   "metadata": {
    "collapsed": false,
    "ExecuteTime": {
     "end_time": "2024-03-15T23:54:15.624785Z",
     "start_time": "2024-03-15T23:54:15.532375Z"
    }
   },
   "id": "cc8974f91787986e",
   "execution_count": 162
  },
  {
   "cell_type": "code",
   "outputs": [],
   "source": [
    "################### Slide 10 part 1 #########################\n",
    "# Create a reuseable Train Random Forest function to be used for the remaining slides\n",
    "\n",
    "import time\n",
    "\n",
    "def TrainRandomForest(num_tree, num_select_features, X_train, Y_train):\n",
    "    from sklearn.ensemble import RandomForestRegressor, RandomForestClassifier\n",
    "    # Create our random forest classifier\n",
    "    clf = RandomForestClassifier(n_estimators=num_tree, random_state=42, oob_score=True,\n",
    "                                 bootstrap=True, max_samples=0.87,\n",
    "                                 max_features=num_select_features)\n",
    "    # Calculate computation start time\n",
    "    start_time = time.time()\n",
    "    # Train the model\n",
    "    clf.fit(X_train, Y_train)\n",
    "    # Calculate computation end time\n",
    "    end_time = time.time()\n",
    "    # Total time is end - start\n",
    "    elapsed_time = end_time - start_time\n",
    "    # Get out of bag score\n",
    "    oob_score = clf.oob_score_\n",
    "    return clf, oob_score, elapsed_time, clf.feature_importances_\n"
   ],
   "metadata": {
    "collapsed": false,
    "ExecuteTime": {
     "end_time": "2024-03-15T22:58:52.621311Z",
     "start_time": "2024-03-15T22:58:52.618378Z"
    }
   },
   "id": "a09cabaaf5983239",
   "execution_count": 129
  },
  {
   "cell_type": "code",
   "outputs": [
    {
     "name": "stdout",
     "output_type": "stream",
     "text": [
      "Training time was 0.08740925788879395 seconds\n",
      "OOB Score: 0.35714285714285715\n",
      "Features: [0.07164648 0.12719635 0.05135033 0.04709069 0.01924918 0.02779768\n",
      " 0.01902358 0.0711378  0.01911041 0.03861217 0.03579348 0.13124294\n",
      " 0.03966387 0.01944193 0.08190082 0.04805506 0.00611002 0.03139941\n",
      " 0.04609471 0.06808308]\n"
     ]
    }
   ],
   "source": [
    "################### Slide 10 part 2 #########################\n",
    "# Compute one iteration of the Random Forest\n",
    "\n",
    "clf, oob_score, elapsed_time, features = TrainRandomForest(100, 18, X_train, Y_train)\n",
    "print(f\"Training time was {elapsed_time} seconds\")\n",
    "\n",
    "print(f\"OOB Score: {oob_score}\")"
   ],
   "metadata": {
    "collapsed": false,
    "ExecuteTime": {
     "end_time": "2024-03-15T23:58:06.937242Z",
     "start_time": "2024-03-15T23:58:06.844356Z"
    }
   },
   "id": "f86fa9712e9ae1ad",
   "execution_count": 163
  },
  {
   "cell_type": "code",
   "outputs": [
    {
     "name": "stdout",
     "output_type": "stream",
     "text": [
      "[[3 0 0]\n",
      " [0 4 0]\n",
      " [0 0 7]]\n"
     ]
    }
   ],
   "source": [
    "################### Slide 10 part 3 #########################\n",
    "# Compute the confusion matrix\n",
    "from sklearn.metrics import confusion_matrix\n",
    "predicted_z = clf.predict(X_train)\n",
    "predicted_z = pd.DataFrame(predicted_z)\n",
    "cmatrix = confusion_matrix(Y_train, predicted_z, labels=[0, 1, 2])\n",
    "print(cmatrix)\n"
   ],
   "metadata": {
    "collapsed": false,
    "ExecuteTime": {
     "end_time": "2024-03-15T22:52:27.501223Z",
     "start_time": "2024-03-15T22:52:27.496644Z"
    }
   },
   "id": "785b677cab9826e6",
   "execution_count": 112
  },
  {
   "cell_type": "code",
   "outputs": [
    {
     "name": "stdout",
     "output_type": "stream",
     "text": [
      "OOB\n",
      " SF         18        36        72        140       200\n",
      "Tree                                                  \n",
      "100   0.428571  0.428571  0.428571  0.428571  0.428571\n",
      "200   0.428571  0.428571  0.428571  0.428571  0.428571\n",
      "300   0.500000  0.500000  0.500000  0.500000  0.500000\n",
      "400   0.500000  0.428571  0.428571  0.428571  0.428571\n",
      "500   0.500000  0.500000  0.500000  0.500000  0.500000\n",
      "Computation times (s)\n",
      " SF         18        36        72        140       200\n",
      "Tree                                                  \n",
      "100   0.117942  0.087714  0.084721  0.084286  0.108509\n",
      "200   0.212884  0.182407  0.172620  0.173774  0.173813\n",
      "300   0.254383  0.278475  0.251826  0.252055  0.248673\n",
      "400   0.329934  0.352914  0.333705  0.333898  0.342823\n",
      "500   0.422747  0.424908  0.422900  0.421166  0.421869\n"
     ]
    }
   ],
   "source": [
    "################### Slide 11 #########################\n",
    "trees = [100,200,300,400,500]\n",
    "selected_features = [18,36,72,140,200]\n",
    "OOB_accuracies = []\n",
    "computation_times = []\n",
    "data = []\n",
    "for tree in trees:\n",
    "    for SF in selected_features:\n",
    "        clf, oob_score, elapsed_time = TrainRandomForest(tree, SF, X_train, Y_train)\n",
    "        data.append((tree, SF, oob_score, elapsed_time))\n",
    "\n",
    "# print(data)\n",
    "df = pd.DataFrame(data, columns=['Tree', 'SF', 'oob_score', 'computation_time'])\n",
    "df_pivot_oob = df.pivot(index='Tree', columns='SF', values='oob_score')\n",
    "df_pivot_time = df.pivot(index='Tree', columns='SF', values='computation_time')\n",
    "\n",
    "print(f\"OOB\\n {df_pivot_oob}\")\n",
    "print(f\"Computation times (s)\\n {df_pivot_time}\")\n",
    "# Best TR* = 100; Best SF* = 36"
   ],
   "metadata": {
    "collapsed": false,
    "ExecuteTime": {
     "end_time": "2024-03-15T20:22:30.260342Z",
     "start_time": "2024-03-15T20:22:23.749284Z"
    }
   },
   "id": "fdae10e5703622f3",
   "execution_count": 45
  },
  {
   "cell_type": "code",
   "outputs": [
    {
     "name": "stdout",
     "output_type": "stream",
     "text": [
      "0.42857142857142855\n",
      "Feature ranking:\n",
      "20\n",
      "AAPL: 0.012998274530805307\n",
      "MSFT: 0.025086273983313652\n",
      "TSLA: 0.08654052748721425\n",
      "META: 0.2153865990907718\n",
      "GOOGL: 0.020176004062855395\n",
      "AMZN: 0.015283337014427804\n",
      "NVDA: 0.012005774517733278\n",
      "AMD: 0.24545355785596282\n",
      "DIS: 0.062063767041473865\n",
      "NFLX: 0.1048364328712449\n",
      "JPM: 0.03880931615954919\n",
      "KO: 0.02499030481243333\n",
      "BAC: 0.02380482147669236\n",
      "C: 0.013525901448269616\n",
      "WFC: 0.009360590052733382\n",
      "GS: 0.021823673701747977\n",
      "AXP: 0.02189920875623043\n",
      "MCD: 0.017433077343974975\n",
      "DJI: 0.012728539474198445\n",
      "SPY: 0.01579401831836733\n"
     ]
    }
   ],
   "source": [
    "################### Slide 12-14 #########################\n",
    "from sklearn.inspection import permutation_importance\n",
    "RF_prime = RandomForestClassifier(n_estimators=500, max_features=36, criterion='gini', n_jobs=-1, oob_score=True)\n",
    "\n",
    "RF_prime.fit(X_train, Y_train)\n",
    "\n",
    "oob_prime = RF_prime.oob_score_\n",
    "features = RF_prime.n_features_in_\n",
    "importances = RF_prime.feature_importances_\n",
    "\n",
    "# Print the feature ranking\n",
    "print(oob_prime)\n",
    "\n"
   ],
   "metadata": {
    "collapsed": false,
    "ExecuteTime": {
     "end_time": "2024-03-15T23:04:50.456684Z",
     "start_time": "2024-03-15T23:04:49.631622Z"
    }
   },
   "id": "37b8aff8148615d1",
   "execution_count": 149
  },
  {
   "cell_type": "code",
   "outputs": [],
   "source": [
    "################### Slide 15 part 1 #########################\n",
    "print(\"Feature ranking:\")\n",
    "print(features)\n",
    "\n",
    "for feature_name, importance in zip(X_train.columns, RF_prime.feature_importances_):\n",
    "    print(f\"{feature_name}: {importance}\")\n"
   ],
   "metadata": {
    "collapsed": false
   },
   "id": "7928baab8493962a"
  },
  {
   "cell_type": "code",
   "outputs": [
    {
     "name": "stdout",
     "output_type": "stream",
     "text": [
      "AMD: 0.24545355785596282\n",
      "META: 0.2153865990907718\n",
      "NFLX: 0.1048364328712449\n",
      "TSLA: 0.08654052748721425\n",
      "DIS: 0.062063767041473865\n",
      "JPM: 0.03880931615954919\n",
      "MSFT: 0.025086273983313652\n",
      "KO: 0.02499030481243333\n",
      "BAC: 0.02380482147669236\n",
      "AXP: 0.02189920875623043\n"
     ]
    }
   ],
   "source": [
    "################### Slide 15 part 2 #########################\n",
    "############# Top 10 most important features ################\n",
    "\n",
    "# Create tuples of importance, feature\n",
    "feature_importances = zip(RF_prime.feature_importances_, X_train.columns)\n",
    "\n",
    "# Sort them by the importance\n",
    "sorted_feature_importances = sorted(feature_importances, reverse=True)\n",
    "\n",
    "# Get the ten most important features\n",
    "top_ten_features = sorted_feature_importances[:10]\n",
    "\n",
    "# Print the ten most important features\n",
    "for importance, feature_name in top_ten_features:\n",
    "    print(f\"{feature_name}: {importance}\")"
   ],
   "metadata": {
    "collapsed": false,
    "ExecuteTime": {
     "end_time": "2024-03-15T23:04:51.466673Z",
     "start_time": "2024-03-15T23:04:51.438992Z"
    }
   },
   "id": "b923e973a7c34acc",
   "execution_count": 150
  },
  {
   "cell_type": "code",
   "outputs": [
    {
     "name": "stdout",
     "output_type": "stream",
     "text": [
      "WFC: 0.009360590052733382\n",
      "NVDA: 0.012005774517733278\n",
      "DJI: 0.012728539474198445\n",
      "AAPL: 0.012998274530805307\n",
      "C: 0.013525901448269616\n",
      "AMZN: 0.015283337014427804\n",
      "SPY: 0.01579401831836733\n",
      "MCD: 0.017433077343974975\n",
      "GOOGL: 0.020176004062855395\n",
      "GS: 0.021823673701747977\n"
     ]
    }
   ],
   "source": [
    "################### Slide 15 part 3 #########################\n",
    "############# Top 10 least important features ################\n",
    "# Create tuples of (importance, feature)\n",
    "feature_importances = zip(RF_prime.feature_importances_, X_train.columns)\n",
    "\n",
    "# Sort them by the importance in ascending order\n",
    "sorted_feature_importances = sorted(feature_importances, key=lambda x: x[0])\n",
    "\n",
    "# Get the ten least important features\n",
    "least_important_features = sorted_feature_importances[:10]\n",
    "\n",
    "# Print the ten least important features\n",
    "for importance, feature_name in least_important_features:\n",
    "    print(f\"{feature_name}: {importance}\")"
   ],
   "metadata": {
    "collapsed": false,
    "ExecuteTime": {
     "end_time": "2024-03-15T23:04:52.183391Z",
     "start_time": "2024-03-15T23:04:52.156134Z"
    }
   },
   "id": "2fc2d5dc8de4a90a",
   "execution_count": 151
  },
  {
   "cell_type": "code",
   "outputs": [],
   "source": [
    "################### Slide 16 part 1 ########################\n",
    "### Create a new dataset of the most important features ####\n",
    "\n",
    "# Create tuples of importance, feature\n",
    "feature_importances = zip(RF_prime.feature_importances_, X_train.columns)\n",
    "\n",
    "# Sort them by the importance\n",
    "sorted_feature_importances = sorted(feature_importances, reverse=True)\n",
    "\n",
    "# Get the feature names of ten most important features\n",
    "top_ten_features = [feature for importance, feature in sorted_feature_importances[:10]]\n",
    "\n",
    "# Create a new dataset with these features\n",
    "X_most = X_train[top_ten_features]"
   ],
   "metadata": {
    "collapsed": false,
    "ExecuteTime": {
     "end_time": "2024-03-15T23:05:15.072837Z",
     "start_time": "2024-03-15T23:05:15.033950Z"
    }
   },
   "id": "3867f3f0037f8d79",
   "execution_count": 153
  },
  {
   "cell_type": "code",
   "outputs": [
    {
     "name": "stdout",
     "output_type": "stream",
     "text": [
      "0.5\n",
      "[[3 0 0]\n",
      " [0 4 0]\n",
      " [0 0 7]]\n"
     ]
    }
   ],
   "source": [
    "################### Slide 16 part 2 ########################\n",
    "################### Train the new Random Forest model ########################\n",
    "RF_prime_most = RandomForestClassifier(n_estimators=500, max_features=20, oob_score=True)\n",
    "RF_prime_most.fit(X_most, Y_train)\n",
    "print(RF_prime_most.oob_score_)\n",
    "\n",
    "from sklearn.metrics import confusion_matrix\n",
    "cmatrix = confusion_matrix(Y_train, predicted_z, labels=[0, 1, 2])\n",
    "print(cmatrix)\n"
   ],
   "metadata": {
    "collapsed": false,
    "ExecuteTime": {
     "end_time": "2024-03-15T23:05:16.567136Z",
     "start_time": "2024-03-15T23:05:16.071484Z"
    }
   },
   "id": "979409935c602612",
   "execution_count": 154
  },
  {
   "cell_type": "code",
   "outputs": [],
   "source": [],
   "metadata": {
    "collapsed": false
   },
   "id": "cbdd73f468ca138e"
  }
 ],
 "metadata": {
  "kernelspec": {
   "display_name": "Python 3",
   "language": "python",
   "name": "python3"
  },
  "language_info": {
   "codemirror_mode": {
    "name": "ipython",
    "version": 2
   },
   "file_extension": ".py",
   "mimetype": "text/x-python",
   "name": "python",
   "nbconvert_exporter": "python",
   "pygments_lexer": "ipython2",
   "version": "2.7.6"
  }
 },
 "nbformat": 4,
 "nbformat_minor": 5
}
